{
  "nbformat": 4,
  "nbformat_minor": 0,
  "metadata": {
    "colab": {
      "name": "Escenario 1.ipynb",
      "provenance": [],
      "collapsed_sections": [
        "Lf7TvqDdYnh3",
        "THfz3Zpfh2tm",
        "K2NIw3weUbbD",
        "On6F_Ex2UNiZ",
        "Foyhop1cEvoE",
        "iDlF_xZOUW22",
        "iaMD6V6bV12T",
        "Eei76f889pLn",
        "4NDg5_YZ3vO0"
      ]
    },
    "kernelspec": {
      "display_name": "Python 3",
      "name": "python3"
    }
  },
  "cells": [
    {
      "cell_type": "code",
      "metadata": {
        "id": "bVZPCzRsGB-l"
      },
      "source": [
        "\n",
        "from scipy.signal import find_peaks,peak_widths,peak_prominences, savgol_filter\n",
        "import matplotlib.pyplot as plt\n",
        "import numpy as np\n",
        "import matplotlib.pyplot as plt\n",
        "import pandas as pd\n",
        "from sklearn import preprocessing\n",
        "from sklearn.model_selection import train_test_split\n",
        "from sklearn.metrics import silhouette_samples, silhouette_score,davies_bouldin_score,calinski_harabasz_score\n",
        "from  sklearn.cluster import KMeans, DBSCAN, AgglomerativeClustering, AffinityPropagation, Birch, OPTICS\n",
        "\n"
      ],
      "execution_count": null,
      "outputs": []
    },
    {
      "cell_type": "code",
      "metadata": {
        "colab": {
          "base_uri": "https://localhost:8080/"
        },
        "id": "77HqGyFFA94G",
        "outputId": "9e550bb8-2bc9-483f-8ad0-4a055a883d0a"
      },
      "source": [
        "from google.colab import drive\n",
        "drive.mount('/content/drive')"
      ],
      "execution_count": null,
      "outputs": [
        {
          "output_type": "stream",
          "text": [
            "Drive already mounted at /content/drive; to attempt to forcibly remount, call drive.mount(\"/content/drive\", force_remount=True).\n"
          ],
          "name": "stdout"
        }
      ]
    },
    {
      "cell_type": "code",
      "metadata": {
        "colab": {
          "base_uri": "https://localhost:8080/",
          "height": 406
        },
        "id": "rlKckXqMFmIK",
        "outputId": "50cebbad-cc69-46c4-d2a0-98c194261c6d"
      },
      "source": [
        "datos_clustering = pd.read_csv('/content/drive/My Drive/Proyecto de Grado Docs/Datos_clustering_v2.csv')\n",
        "x = datos_clustering[['Peak_I','Peak_F','Width','Height']].values #returns a numpy array\n",
        "min_max_scaler = preprocessing.MinMaxScaler()\n",
        "x_scaled = min_max_scaler.fit_transform(x)\n",
        "df_normalized = pd.DataFrame(x_scaled, columns = ['Peak_I','Peak_F','Width','Height'])\n",
        "\n",
        "X, _ = train_test_split( df_normalized, test_size=0.45, random_state=42)\n",
        "X "
      ],
      "execution_count": null,
      "outputs": [
        {
          "output_type": "execute_result",
          "data": {
            "text/html": [
              "<div>\n",
              "<style scoped>\n",
              "    .dataframe tbody tr th:only-of-type {\n",
              "        vertical-align: middle;\n",
              "    }\n",
              "\n",
              "    .dataframe tbody tr th {\n",
              "        vertical-align: top;\n",
              "    }\n",
              "\n",
              "    .dataframe thead th {\n",
              "        text-align: right;\n",
              "    }\n",
              "</style>\n",
              "<table border=\"1\" class=\"dataframe\">\n",
              "  <thead>\n",
              "    <tr style=\"text-align: right;\">\n",
              "      <th></th>\n",
              "      <th>Peak_I</th>\n",
              "      <th>Peak_F</th>\n",
              "      <th>Width</th>\n",
              "      <th>Height</th>\n",
              "    </tr>\n",
              "  </thead>\n",
              "  <tbody>\n",
              "    <tr>\n",
              "      <th>2451935</th>\n",
              "      <td>0.018344</td>\n",
              "      <td>0.990098</td>\n",
              "      <td>0.000009</td>\n",
              "      <td>0.558147</td>\n",
              "    </tr>\n",
              "    <tr>\n",
              "      <th>1706443</th>\n",
              "      <td>0.002064</td>\n",
              "      <td>0.994304</td>\n",
              "      <td>0.000020</td>\n",
              "      <td>0.547990</td>\n",
              "    </tr>\n",
              "    <tr>\n",
              "      <th>1784284</th>\n",
              "      <td>0.053898</td>\n",
              "      <td>0.992444</td>\n",
              "      <td>0.000061</td>\n",
              "      <td>0.562172</td>\n",
              "    </tr>\n",
              "    <tr>\n",
              "      <th>2169943</th>\n",
              "      <td>0.013301</td>\n",
              "      <td>0.969929</td>\n",
              "      <td>0.000026</td>\n",
              "      <td>0.553685</td>\n",
              "    </tr>\n",
              "    <tr>\n",
              "      <th>1334073</th>\n",
              "      <td>0.114800</td>\n",
              "      <td>0.914202</td>\n",
              "      <td>0.000008</td>\n",
              "      <td>0.593481</td>\n",
              "    </tr>\n",
              "    <tr>\n",
              "      <th>...</th>\n",
              "      <td>...</td>\n",
              "      <td>...</td>\n",
              "      <td>...</td>\n",
              "      <td>...</td>\n",
              "    </tr>\n",
              "    <tr>\n",
              "      <th>2356330</th>\n",
              "      <td>0.014526</td>\n",
              "      <td>0.995166</td>\n",
              "      <td>0.000008</td>\n",
              "      <td>0.563514</td>\n",
              "    </tr>\n",
              "    <tr>\n",
              "      <th>3511566</th>\n",
              "      <td>0.023469</td>\n",
              "      <td>0.977183</td>\n",
              "      <td>0.000182</td>\n",
              "      <td>0.551742</td>\n",
              "    </tr>\n",
              "    <tr>\n",
              "      <th>2229084</th>\n",
              "      <td>0.001011</td>\n",
              "      <td>0.999225</td>\n",
              "      <td>0.000013</td>\n",
              "      <td>0.638015</td>\n",
              "    </tr>\n",
              "    <tr>\n",
              "      <th>2768307</th>\n",
              "      <td>0.023969</td>\n",
              "      <td>0.988060</td>\n",
              "      <td>0.000016</td>\n",
              "      <td>0.560009</td>\n",
              "    </tr>\n",
              "    <tr>\n",
              "      <th>2219110</th>\n",
              "      <td>0.063745</td>\n",
              "      <td>0.999336</td>\n",
              "      <td>0.000033</td>\n",
              "      <td>0.542318</td>\n",
              "    </tr>\n",
              "  </tbody>\n",
              "</table>\n",
              "<p>1981186 rows × 4 columns</p>\n",
              "</div>"
            ],
            "text/plain": [
              "           Peak_I    Peak_F     Width    Height\n",
              "2451935  0.018344  0.990098  0.000009  0.558147\n",
              "1706443  0.002064  0.994304  0.000020  0.547990\n",
              "1784284  0.053898  0.992444  0.000061  0.562172\n",
              "2169943  0.013301  0.969929  0.000026  0.553685\n",
              "1334073  0.114800  0.914202  0.000008  0.593481\n",
              "...           ...       ...       ...       ...\n",
              "2356330  0.014526  0.995166  0.000008  0.563514\n",
              "3511566  0.023469  0.977183  0.000182  0.551742\n",
              "2229084  0.001011  0.999225  0.000013  0.638015\n",
              "2768307  0.023969  0.988060  0.000016  0.560009\n",
              "2219110  0.063745  0.999336  0.000033  0.542318\n",
              "\n",
              "[1981186 rows x 4 columns]"
            ]
          },
          "metadata": {
            "tags": []
          },
          "execution_count": 3
        }
      ]
    },
    {
      "cell_type": "code",
      "metadata": {
        "colab": {
          "base_uri": "https://localhost:8080/",
          "height": 137
        },
        "id": "24QPYoFMr_wP",
        "outputId": "4c50637a-0793-46ad-bcce-bfc2df0c59c5"
      },
      "source": [
        "df_normalized.quantile([0.25,0.5,0.75])"
      ],
      "execution_count": null,
      "outputs": [
        {
          "output_type": "execute_result",
          "data": {
            "text/html": [
              "<div>\n",
              "<style scoped>\n",
              "    .dataframe tbody tr th:only-of-type {\n",
              "        vertical-align: middle;\n",
              "    }\n",
              "\n",
              "    .dataframe tbody tr th {\n",
              "        vertical-align: top;\n",
              "    }\n",
              "\n",
              "    .dataframe thead th {\n",
              "        text-align: right;\n",
              "    }\n",
              "</style>\n",
              "<table border=\"1\" class=\"dataframe\">\n",
              "  <thead>\n",
              "    <tr style=\"text-align: right;\">\n",
              "      <th></th>\n",
              "      <th>Peak_I</th>\n",
              "      <th>Peak_F</th>\n",
              "      <th>Width</th>\n",
              "      <th>Height</th>\n",
              "    </tr>\n",
              "  </thead>\n",
              "  <tbody>\n",
              "    <tr>\n",
              "      <th>0.25</th>\n",
              "      <td>0.010593</td>\n",
              "      <td>0.955907</td>\n",
              "      <td>0.000008</td>\n",
              "      <td>0.549919</td>\n",
              "    </tr>\n",
              "    <tr>\n",
              "      <th>0.50</th>\n",
              "      <td>0.024169</td>\n",
              "      <td>0.981938</td>\n",
              "      <td>0.000011</td>\n",
              "      <td>0.561020</td>\n",
              "    </tr>\n",
              "    <tr>\n",
              "      <th>0.75</th>\n",
              "      <td>0.057041</td>\n",
              "      <td>0.992303</td>\n",
              "      <td>0.000031</td>\n",
              "      <td>0.575048</td>\n",
              "    </tr>\n",
              "  </tbody>\n",
              "</table>\n",
              "</div>"
            ],
            "text/plain": [
              "        Peak_I    Peak_F     Width    Height\n",
              "0.25  0.010593  0.955907  0.000008  0.549919\n",
              "0.50  0.024169  0.981938  0.000011  0.561020\n",
              "0.75  0.057041  0.992303  0.000031  0.575048"
            ]
          },
          "metadata": {
            "tags": []
          },
          "execution_count": 22
        }
      ]
    },
    {
      "cell_type": "code",
      "metadata": {
        "colab": {
          "base_uri": "https://localhost:8080/"
        },
        "id": "_R4XFfE6sHoJ",
        "outputId": "4dbea27d-b06c-493e-c58b-bc6a62c3ee14"
      },
      "source": [
        "len(df_normalized[df_normalized.Peak_I > 0.057041])"
      ],
      "execution_count": null,
      "outputs": [
        {
          "output_type": "execute_result",
          "data": {
            "text/plain": [
              "900537"
            ]
          },
          "metadata": {
            "tags": []
          },
          "execution_count": 25
        }
      ]
    },
    {
      "cell_type": "code",
      "metadata": {
        "colab": {
          "base_uri": "https://localhost:8080/",
          "height": 501
        },
        "id": "H5FNMTENUysD",
        "outputId": "59c238de-dbe3-438e-d7dc-a817ac207859"
      },
      "source": [
        "df_normalized.boxplot(figsize = (20,8))"
      ],
      "execution_count": null,
      "outputs": [
        {
          "output_type": "execute_result",
          "data": {
            "text/plain": [
              "<matplotlib.axes._subplots.AxesSubplot at 0x7f1ea9885470>"
            ]
          },
          "metadata": {
            "tags": []
          },
          "execution_count": 26
        },
        {
          "output_type": "display_data",
          "data": {
            "image/png": "[encoded data removed]",
            "text/plain": [
              "<Figure size 1440x576 with 1 Axes>"
            ]
          },
          "metadata": {
            "tags": [],
            "needs_background": "light"
          }
        }
      ]
    },
    {
      "cell_type": "code",
      "metadata": {
        "colab": {
          "base_uri": "https://localhost:8080/",
          "height": 500
        },
        "id": "ZSgSkODRrbb2",
        "outputId": "41bfc953-7c92-4e56-bf21-a89ca1719166"
      },
      "source": [
        "df_normalized['Width'].plot.box(figsize = (20,8))"
      ],
      "execution_count": null,
      "outputs": [
        {
          "output_type": "execute_result",
          "data": {
            "text/plain": [
              "<matplotlib.axes._subplots.AxesSubplot at 0x7f1ea9994b38>"
            ]
          },
          "metadata": {
            "tags": []
          },
          "execution_count": 18
        },
        {
          "output_type": "display_data",
          "data": {
            "image/png": "[encoded data removed]",
            "text/plain": [
              "<Figure size 1440x576 with 1 Axes>"
            ]
          },
          "metadata": {
            "tags": [],
            "needs_background": "light"
          }
        }
      ]
    },
    {
      "cell_type": "code",
      "metadata": {
        "colab": {
          "base_uri": "https://localhost:8080/",
          "height": 967
        },
        "id": "vbArvwkqVTvU",
        "outputId": "c811b06a-76d4-46e6-dec6-3bdb2ba63aca"
      },
      "source": [
        "df_normalized.hist(figsize=(15,15),alpha=0.5, bins=50,color = 'blue')\n",
        "\n"
      ],
      "execution_count": null,
      "outputs": [
        {
          "output_type": "execute_result",
          "data": {
            "text/plain": [
              "array([[<matplotlib.axes._subplots.AxesSubplot object at 0x7fcacbb8da90>,\n",
              "        <matplotlib.axes._subplots.AxesSubplot object at 0x7fcacbde0e10>],\n",
              "       [<matplotlib.axes._subplots.AxesSubplot object at 0x7fcacb6e3a20>,\n",
              "        <matplotlib.axes._subplots.AxesSubplot object at 0x7fcacb68ad30>]],\n",
              "      dtype=object)"
            ]
          },
          "metadata": {
            "tags": []
          },
          "execution_count": 5
        },
        {
          "output_type": "display_data",
          "data": {
            "image/png": "[encoded data removed]",
            "text/plain": [
              "<Figure size 1080x1080 with 4 Axes>"
            ]
          },
          "metadata": {
            "tags": [],
            "needs_background": "light"
          }
        }
      ]
    },
    {
      "cell_type": "code",
      "metadata": {
        "colab": {
          "base_uri": "https://localhost:8080/",
          "height": 230
        },
        "id": "tPIQunp4el67",
        "outputId": "75392e9d-a7fb-4f5f-9e2d-10aeffe51620"
      },
      "source": [
        "df_normalized['Width'].value_counts()"
      ],
      "execution_count": null,
      "outputs": [
        {
          "output_type": "execute_result",
          "data": {
            "text/plain": [
              "0.000009    81\n",
              "0.000012    64\n",
              "0.000008    57\n",
              "0.000008    50\n",
              "0.000009    35\n",
              "            ..\n",
              "0.000011     1\n",
              "0.000008     1\n",
              "0.000006     1\n",
              "0.000002     1\n",
              "0.000000     1\n",
              "Name: Width, Length: 3514911, dtype: int64"
            ]
          },
          "metadata": {
            "tags": []
          },
          "execution_count": 72
        }
      ]
    },
    {
      "cell_type": "code",
      "metadata": {
        "colab": {
          "base_uri": "https://localhost:8080/"
        },
        "id": "QnXGhfc7Xr2p",
        "outputId": "b537479e-efd1-45c1-c0ad-cc7f0629ea60"
      },
      "source": [
        "from sklearn.metrics import silhouette_samples, silhouette_score,davies_bouldin_score,calinski_harabasz_score,v_measure_score\n",
        "from  sklearn.cluster import KMeans\n",
        "range_n_clusters = [3,4,5]\n",
        "for n_clusters in range_n_clusters:\n",
        "    clusterer = KMeans(n_clusters=n_clusters)\n",
        "    preds = clusterer.fit_predict(df_normalized)\n",
        "    #centers = clusterer.cluster_centers_\n",
        "    cluster_labels = clusterer.labels_\n",
        "\n",
        "    #score = silhouette_score(X[:200000], preds)\n",
        "    davies = davies_bouldin_score(df_normalized,cluster_labels )\n",
        "    calinski = calinski_harabasz_score(df_normalized,cluster_labels )\n",
        "\n",
        "\n",
        "\n",
        "    print(\"-\"*100)\n",
        "    #print(\"For n_clusters = {}, silhouette score is {} and the david score is {} and the calinski score is {})\".format(n_clusters, score, davies, calinski))\n",
        "    print(\"For n_clusters = {}, the david score is {} and the calinski score is {})\".format(n_clusters, davies, calinski))"
      ],
      "execution_count": null,
      "outputs": [
        {
          "output_type": "stream",
          "text": [
            "----------------------------------------------------------------------------------------------------\n",
            "For n_clusters = 3, the david score is 1.027983441726537 and the calinski score is 2075911.9608072957)\n",
            "----------------------------------------------------------------------------------------------------\n",
            "For n_clusters = 4, the david score is 1.019396855769277 and the calinski score is 1863609.9519960145)\n",
            "----------------------------------------------------------------------------------------------------\n",
            "For n_clusters = 5, the david score is 0.9405861934197628 and the calinski score is 1835465.2996496572)\n"
          ],
          "name": "stdout"
        }
      ]
    },
    {
      "cell_type": "code",
      "metadata": {
        "colab": {
          "base_uri": "https://localhost:8080/"
        },
        "id": "QVZmscsu2suj",
        "outputId": "9fdb02d0-4125-44e1-fa0c-cae8457f706c"
      },
      "source": [
        "from sklearn.metrics import silhouette_samples, silhouette_score,davies_bouldin_score,calinski_harabasz_score,v_measure_score\n",
        "from  sklearn.cluster import KMeans\n",
        "range_n_clusters = [4,5,6]\n",
        "for n_clusters in range_n_clusters:\n",
        "    clusterer = KMeans(n_clusters=n_clusters)\n",
        "    preds = clusterer.fit_predict(df_normalized[:20000])\n",
        "    #centers = clusterer.cluster_centers_\n",
        "    cluster_labels = clusterer.labels_\n",
        "\n",
        "    score = silhouette_score(df_normalized[:20000], preds)\n",
        "    davies = davies_bouldin_score(df_normalized[:20000],cluster_labels )\n",
        "    calinski = calinski_harabasz_score(df_normalized[:20000],cluster_labels )\n",
        "\n",
        "\n",
        "\n",
        "    print(\"-\"*100)\n",
        "    print(\"For n_clusters = {}, silhouette score is {} and the david score is {} and the calinski score is {})\".format(n_clusters, score, davies, calinski))\n",
        "    #print(\"For n_clusters = {}, the david score is {} and the calinski score is {})\".format(n_clusters, davies, calinski))"
      ],
      "execution_count": null,
      "outputs": [
        {
          "output_type": "stream",
          "text": [
            "----------------------------------------------------------------------------------------------------\n",
            "For n_clusters = 4, silhouette score is 0.5460771690124615 and the david score is 0.8809132427096771 and the calinski score is 11308.288579208205)\n",
            "----------------------------------------------------------------------------------------------------\n",
            "For n_clusters = 5, silhouette score is 0.4795873402283051 and the david score is 0.8823202242652807 and the calinski score is 10996.490393810353)\n",
            "----------------------------------------------------------------------------------------------------\n",
            "For n_clusters = 6, silhouette score is 0.46972162335605355 and the david score is 0.9041929595836296 and the calinski score is 10504.784560166678)\n"
          ],
          "name": "stdout"
        }
      ]
    },
    {
      "cell_type": "code",
      "metadata": {
        "id": "T__LXFKNW9BN"
      },
      "source": [
        "kmeans = KMeans(n_clusters=4, random_state=42)\n",
        "kmeans.fit_predict(df_normalized)\n",
        "cluster_labels = kmeans.labels_"
      ],
      "execution_count": null,
      "outputs": []
    },
    {
      "cell_type": "code",
      "metadata": {
        "colab": {
          "base_uri": "https://localhost:8080/"
        },
        "id": "0OlaengyXYn0",
        "outputId": "c3af5d0e-c5b2-412a-f556-43f36f468021"
      },
      "source": [
        "c = pd.Series(cluster_labels)\n",
        "c.value_counts()"
      ],
      "execution_count": null,
      "outputs": [
        {
          "output_type": "execute_result",
          "data": {
            "text/plain": [
              "0    2713974\n",
              "3     509489\n",
              "2     239443\n",
              "1     139252\n",
              "dtype: int64"
            ]
          },
          "metadata": {
            "tags": []
          },
          "execution_count": 14
        }
      ]
    },
    {
      "cell_type": "code",
      "metadata": {
        "colab": {
          "base_uri": "https://localhost:8080/"
        },
        "id": "qjnkrSlniDzU",
        "outputId": "c5f1511b-8c6f-426b-8fe2-b1db0b774615"
      },
      "source": [
        "d = pd.DataFrame(kmeans.cluster_centers_)\n",
        "d = min_max_scaler.inverse_transform(d)\n",
        "D = np.append(d[0] ,d[1])\n",
        "D = np.append(D ,d[2])\n",
        "D = np.append(D ,d[3])\n",
        "D = D.reshape(4,4)\n",
        "D"
      ],
      "execution_count": null,
      "outputs": [
        {
          "output_type": "execute_result",
          "data": {
            "text/plain": [
              "array([[ 3.66335201e-04, -3.80926720e-04,  2.73633692e+01,\n",
              "        -2.58788902e-04],\n",
              "       [ 1.22732955e-03, -7.52537024e-04,  2.52259593e+01,\n",
              "        -6.61354409e-04],\n",
              "       [ 5.29584085e-04, -1.12662667e-03,  2.93391280e+01,\n",
              "         6.49597244e-05],\n",
              "       [ 6.36996124e-04, -4.92798273e-04,  3.88043850e+01,\n",
              "        -4.53916157e-04]])"
            ]
          },
          "metadata": {
            "tags": []
          },
          "execution_count": 6
        }
      ]
    },
    {
      "cell_type": "code",
      "metadata": {
        "colab": {
          "base_uri": "https://localhost:8080/",
          "height": 167
        },
        "id": "HVR44cP_2shi",
        "outputId": "bfc6c82b-30bb-4d11-b538-9e4baaeac218"
      },
      "source": [
        "C = kmeans.cluster_centers_\n",
        "analisis = pd.DataFrame({'pico_inicial':C[:,0],'pico_final':-1 * C[:,1], 'ancho': C[:,2], 'alto':-1* C[:,3]})\n",
        "analisis"
      ],
      "execution_count": null,
      "outputs": [
        {
          "output_type": "execute_result",
          "data": {
            "text/html": [
              "<div>\n",
              "<style scoped>\n",
              "    .dataframe tbody tr th:only-of-type {\n",
              "        vertical-align: middle;\n",
              "    }\n",
              "\n",
              "    .dataframe tbody tr th {\n",
              "        vertical-align: top;\n",
              "    }\n",
              "\n",
              "    .dataframe thead th {\n",
              "        text-align: right;\n",
              "    }\n",
              "</style>\n",
              "<table border=\"1\" class=\"dataframe\">\n",
              "  <thead>\n",
              "    <tr style=\"text-align: right;\">\n",
              "      <th></th>\n",
              "      <th>pico_inicial</th>\n",
              "      <th>pico_final</th>\n",
              "      <th>ancho</th>\n",
              "      <th>alto</th>\n",
              "    </tr>\n",
              "  </thead>\n",
              "  <tbody>\n",
              "    <tr>\n",
              "      <th>0</th>\n",
              "      <td>0.022183</td>\n",
              "      <td>-0.979197</td>\n",
              "      <td>0.000050</td>\n",
              "      <td>-0.571124</td>\n",
              "    </tr>\n",
              "    <tr>\n",
              "      <th>1</th>\n",
              "      <td>0.310104</td>\n",
              "      <td>-0.883669</td>\n",
              "      <td>0.000046</td>\n",
              "      <td>-0.520078</td>\n",
              "    </tr>\n",
              "    <tr>\n",
              "      <th>2</th>\n",
              "      <td>0.076774</td>\n",
              "      <td>-0.787505</td>\n",
              "      <td>0.000054</td>\n",
              "      <td>-0.612176</td>\n",
              "    </tr>\n",
              "    <tr>\n",
              "      <th>3</th>\n",
              "      <td>0.112693</td>\n",
              "      <td>-0.950439</td>\n",
              "      <td>0.000071</td>\n",
              "      <td>-0.546382</td>\n",
              "    </tr>\n",
              "  </tbody>\n",
              "</table>\n",
              "</div>"
            ],
            "text/plain": [
              "   pico_inicial  pico_final     ancho      alto\n",
              "0      0.022183   -0.979197  0.000050 -0.571124\n",
              "1      0.310104   -0.883669  0.000046 -0.520078\n",
              "2      0.076774   -0.787505  0.000054 -0.612176\n",
              "3      0.112693   -0.950439  0.000071 -0.546382"
            ]
          },
          "metadata": {
            "tags": []
          },
          "execution_count": 7
        }
      ]
    },
    {
      "cell_type": "code",
      "metadata": {
        "colab": {
          "base_uri": "https://localhost:8080/",
          "height": 137
        },
        "id": "ALnueMYN3aI8",
        "outputId": "1045d174-b748-4fad-8964-7ab4a989bea9"
      },
      "source": [
        "b = analisis.quantile([0.25,0.5,0.75])\n",
        "\n",
        "b['pico_final'] = b['pico_final']*-1\n",
        "b['alto'] = b['alto']*-1\n",
        "b"
      ],
      "execution_count": null,
      "outputs": [
        {
          "output_type": "execute_result",
          "data": {
            "text/html": [
              "<div>\n",
              "<style scoped>\n",
              "    .dataframe tbody tr th:only-of-type {\n",
              "        vertical-align: middle;\n",
              "    }\n",
              "\n",
              "    .dataframe tbody tr th {\n",
              "        vertical-align: top;\n",
              "    }\n",
              "\n",
              "    .dataframe thead th {\n",
              "        text-align: right;\n",
              "    }\n",
              "</style>\n",
              "<table border=\"1\" class=\"dataframe\">\n",
              "  <thead>\n",
              "    <tr style=\"text-align: right;\">\n",
              "      <th></th>\n",
              "      <th>pico_inicial</th>\n",
              "      <th>pico_final</th>\n",
              "      <th>ancho</th>\n",
              "      <th>alto</th>\n",
              "    </tr>\n",
              "  </thead>\n",
              "  <tbody>\n",
              "    <tr>\n",
              "      <th>0.25</th>\n",
              "      <td>0.063126</td>\n",
              "      <td>0.957628</td>\n",
              "      <td>0.000049</td>\n",
              "      <td>0.581387</td>\n",
              "    </tr>\n",
              "    <tr>\n",
              "      <th>0.50</th>\n",
              "      <td>0.094734</td>\n",
              "      <td>0.917054</td>\n",
              "      <td>0.000052</td>\n",
              "      <td>0.558753</td>\n",
              "    </tr>\n",
              "    <tr>\n",
              "      <th>0.75</th>\n",
              "      <td>0.162046</td>\n",
              "      <td>0.859628</td>\n",
              "      <td>0.000058</td>\n",
              "      <td>0.539806</td>\n",
              "    </tr>\n",
              "  </tbody>\n",
              "</table>\n",
              "</div>"
            ],
            "text/plain": [
              "      pico_inicial  pico_final     ancho      alto\n",
              "0.25      0.063126    0.957628  0.000049  0.581387\n",
              "0.50      0.094734    0.917054  0.000052  0.558753\n",
              "0.75      0.162046    0.859628  0.000058  0.539806"
            ]
          },
          "metadata": {
            "tags": []
          },
          "execution_count": 9
        }
      ]
    },
    {
      "cell_type": "code",
      "metadata": {
        "colab": {
          "base_uri": "https://localhost:8080/"
        },
        "id": "jAVkHvFV3L2M",
        "outputId": "92c40d2c-7f39-4f47-8d3c-1d4cbeb93992"
      },
      "source": [
        "3.66335201e-04 < 0.000489"
      ],
      "execution_count": null,
      "outputs": [
        {
          "output_type": "execute_result",
          "data": {
            "text/plain": [
              "True"
            ]
          },
          "metadata": {
            "tags": []
          },
          "execution_count": 58
        }
      ]
    },
    {
      "cell_type": "code",
      "metadata": {
        "colab": {
          "base_uri": "https://localhost:8080/",
          "height": 695
        },
        "id": "gvqcUgzxaibN",
        "outputId": "e2ea55fd-0ad1-4aef-dead-7649dd819570"
      },
      "source": [
        "%matplotlib inline\n",
        "cluster_labels = kmeans.labels_\n",
        "\n",
        "from mpl_toolkits.mplot3d import Axes3D\n",
        "# Getting the cluster centers\n",
        "fig = plt.figure(figsize=(8,8))\n",
        "ax = Axes3D(fig)\n",
        "C = kmeans.cluster_centers_\n",
        "print(C)\n",
        "ax.scatter(C[:, 0], C[:, 1], C[:, 2], marker='*', c = ['blue', 'yellow','green', 'orange'], s = C[:, 3]*1000)\n",
        "ax.set_xlabel('PI')\n",
        "ax.set_ylabel('PF')\n",
        "ax.set_zlabel('Width')"
      ],
      "execution_count": null,
      "outputs": [
        {
          "output_type": "stream",
          "text": [
            "[[2.21828667e-02 9.79196709e-01 4.98516389e-05 5.71124286e-01]\n",
            " [3.10104360e-01 8.83669308e-01 4.58851445e-05 5.20077879e-01]\n",
            " [7.67742382e-02 7.87504559e-01 5.35181498e-05 6.12176497e-01]\n",
            " [1.12693446e-01 9.50438629e-01 7.10832832e-05 5.46381616e-01]]\n"
          ],
          "name": "stdout"
        },
        {
          "output_type": "execute_result",
          "data": {
            "text/plain": [
              "Text(0.5, 0, 'Width')"
            ]
          },
          "metadata": {
            "tags": []
          },
          "execution_count": 9
        },
        {
          "output_type": "display_data",
          "data": {
            "image/png": "[encoded data removed]",
            "text/plain": [
              "<Figure size 576x576 with 1 Axes>"
            ]
          },
          "metadata": {
            "tags": [],
            "needs_background": "light"
          }
        }
      ]
    },
    {
      "cell_type": "code",
      "metadata": {
        "colab": {
          "base_uri": "https://localhost:8080/"
        },
        "id": "cNX_h_AhXRHn",
        "outputId": "eee2424d-3231-43db-980c-0d820e80e4c5"
      },
      "source": [
        "C = kmeans.cluster_centers_\n",
        "kmeans. predict(C)"
      ],
      "execution_count": null,
      "outputs": [
        {
          "output_type": "execute_result",
          "data": {
            "text/plain": [
              "array([0, 1, 2, 3], dtype=int32)"
            ]
          },
          "metadata": {
            "tags": []
          },
          "execution_count": 8
        }
      ]
    },
    {
      "cell_type": "code",
      "metadata": {
        "colab": {
          "base_uri": "https://localhost:8080/",
          "height": 638
        },
        "id": "nXt6_ydFXYqS",
        "outputId": "ac5abf93-6409-4b25-e968-0adcfda4d0f9"
      },
      "source": [
        "%matplotlib inline\n",
        "y1 = D[:, 0] #PI\n",
        "x1 =  [0,0,0,0]\n",
        "y2 = D[:, 1] #PF\n",
        "x2 = D[:, 2] #Width\n",
        "\n",
        "\n",
        "\n",
        "x3 = np.array(x2) *1.5\n",
        "x4 = np.array(x2) *0.5\n",
        "x5 = np.array(x2) *2\n",
        "\n",
        "plt.figure(figsize=(10,10))\n",
        "plt.plot(x4,y1,'ok')\n",
        "plt.plot(x3,y2, 'ok')\n",
        "plt.plot(x2,x1,'ok')\n",
        "plt.plot(x2,x1,'ok')\n",
        "plt.plot(x5,x1,'ok')\n",
        "\n",
        "labels = ['espiga_tipo_1','espiga_tipo_2','espiga_tipo_3','espiga_tipo_4']\n",
        "colors = ['#92DCE5', 'blue', '#531cb3', '#EB9FEF']\n",
        "for i in range(len(y1)):\n",
        "  plt.plot([x4[i],x2[i]], [y1[i],x1[i]], c = colors[i], label =labels[i] )\n",
        "  plt.plot([x2[i],x3[i]], [x1[i],y2[i]], c = colors[i])\n",
        "  plt.plot([x3[i],x5[i]], [y2[i],x1[i]], c = colors[i])\n",
        "\n",
        "  plt.plot([x1[i],x4[i]], [x1[i],y1[i]], c = colors[i] )\n",
        "\n",
        "  \n",
        "plt.axhline(y=0, color='k', linestyle='--')\n",
        "plt.title('Espigas epilpepticas')\n",
        "plt.xlabel('Tiempo')\n",
        "plt.ylabel('Votlios')\n",
        "plt.legend()"
      ],
      "execution_count": null,
      "outputs": [
        {
          "output_type": "execute_result",
          "data": {
            "text/plain": [
              "<matplotlib.legend.Legend at 0x7fcac70eadd8>"
            ]
          },
          "metadata": {
            "tags": []
          },
          "execution_count": 29
        },
        {
          "output_type": "display_data",
          "data": {
            "image/png": "[encoded data removed]",
            "text/plain": [
              "<Figure size 720x720 with 1 Axes>"
            ]
          },
          "metadata": {
            "tags": [],
            "needs_background": "light"
          }
        }
      ]
    },
    {
      "cell_type": "code",
      "metadata": {
        "colab": {
          "base_uri": "https://localhost:8080/"
        },
        "id": "HkIOqg6II1Xa",
        "outputId": "0d94f4e3-3643-40c6-eb18-d5ce20186e65"
      },
      "source": [
        "from sklearn.cluster import AgglomerativeClustering\n",
        "from sklearn.metrics import silhouette_samples, silhouette_score,davies_bouldin_score,calinski_harabasz_score,v_measure_score\n",
        "\n",
        "\n",
        "#range_n_clusters = np.linspace(0,0.5,7)\n",
        "range_n_clusters = [4,5,6]\n",
        "for n_clusters in range_n_clusters:\n",
        "    clusterer = AgglomerativeClustering(n_clusters = n_clusters ,linkage = 'ward')\n",
        "    preds = clusterer.fit_predict(X[:10000])\n",
        "    #centers = clusterer.cluster_centers_\n",
        "    cluster_labels = clusterer.labels_\n",
        "    \n",
        "    n_cluster = clusterer.n_clusters_\n",
        "    score = silhouette_score(X[:10000], preds)\n",
        "    davies = davies_bouldin_score(X[:10000],cluster_labels )\n",
        "    calinski = calinski_harabasz_score(X[:10000],cluster_labels )\n",
        "\n",
        "    print(\"-\"*100)\n",
        "    print(\"For n_clusters = {}, silhouette score is {} and the david score is {} and the calinski score is {})\".format(n_clusters, score, davies, calinski))\n",
        "    #print(\"For n_clusters = {}, the david score is {} and the calinski score is {})\".format(n_cluster, davies, calinski))"
      ],
      "execution_count": null,
      "outputs": [
        {
          "output_type": "stream",
          "text": [
            "----------------------------------------------------------------------------------------------------\n",
            "For n_clusters = 4, silhouette score is 0.5225967410593683 and the david score is 1.107339361643748 and the calinski score is 4009.320618578046)\n",
            "----------------------------------------------------------------------------------------------------\n",
            "For n_clusters = 5, silhouette score is 0.491477866413628 and the david score is 1.0625202051058367 and the calinski score is 4174.740723015168)\n",
            "----------------------------------------------------------------------------------------------------\n",
            "For n_clusters = 6, silhouette score is 0.4860993448755409 and the david score is 1.0217644194125828 and the calinski score is 4117.194138593117)\n"
          ],
          "name": "stdout"
        }
      ]
    },
    {
      "cell_type": "code",
      "metadata": {
        "id": "XpSohevQSEdT"
      },
      "source": [
        "clusterer = AgglomerativeClustering(n_clusters = 4 ,linkage = 'ward')\n",
        "clusterer.fit_predict(df_normalized)\n"
      ],
      "execution_count": null,
      "outputs": []
    },
    {
      "cell_type": "markdown",
      "metadata": {
        "id": "Lf7TvqDdYnh3"
      },
      "source": [
        "# Predicive Models "
      ]
    },
    {
      "cell_type": "code",
      "metadata": {
        "id": "EO64BziHoLcP"
      },
      "source": [
        "import pandas as pd"
      ],
      "execution_count": null,
      "outputs": []
    },
    {
      "cell_type": "code",
      "metadata": {
        "id": "uctsElX-aoK_"
      },
      "source": [
        "\n",
        "## Datos seizures \n",
        "datos_seizures1 = pd.read_csv('/content/drive/My Drive/Proyecto de Grado Docs/Datos_seizures1.csv')\n",
        "datos_seizures2= pd.read_csv('/content/drive/My Drive/Proyecto de Grado Docs/Datos_seizures2.csv')\n",
        "datos_seizures3 = pd.read_csv('/content/drive/My Drive/Proyecto de Grado Docs/Datos_seizures3.csv')\n",
        "datos_seizures4 = pd.read_csv('/content/drive/My Drive/Proyecto de Grado Docs/Datos_seizures4.csv')\n",
        "datos_seizures5 = pd.read_csv('/content/drive/My Drive/Proyecto de Grado Docs/Datos_seizures5.csv')\n",
        "datos_seizures6 = pd.read_csv('/content/drive/My Drive/Proyecto de Grado Docs/Datos_seizures6.csv')\n",
        "\n",
        "##Datos no seizures \n",
        "datos_no_seizures  = pd.read_csv('/content/drive/My Drive/Proyecto de Grado Docs/Datos_parte2.csv')"
      ],
      "execution_count": null,
      "outputs": []
    },
    {
      "cell_type": "code",
      "metadata": {
        "colab": {
          "base_uri": "https://localhost:8080/"
        },
        "id": "bcT7T0-gX9Zw",
        "outputId": "b542f12c-0c8c-44e0-d6e4-56e49e5e2441"
      },
      "source": [
        "dataset = pd.concat([datos_seizures1,datos_seizures2,datos_seizures3,datos_seizures4,datos_seizures5,datos_seizures6 ], axis=0)\n",
        "dataset['label'].value_counts()"
      ],
      "execution_count": null,
      "outputs": [
        {
          "output_type": "execute_result",
          "data": {
            "text/plain": [
              "ictal         66331\n",
              "pre_ictal     56475\n",
              "interictal    41102\n",
              "Name: label, dtype: int64"
            ]
          },
          "metadata": {
            "tags": []
          },
          "execution_count": 53
        }
      ]
    },
    {
      "cell_type": "code",
      "metadata": {
        "colab": {
          "base_uri": "https://localhost:8080/",
          "height": 221
        },
        "id": "nbj6fo-CZzsL",
        "outputId": "cca2bb6e-2eb1-4dd8-d45c-dafd3662ab44"
      },
      "source": [
        "display(dataset.isna().sum())"
      ],
      "execution_count": null,
      "outputs": [
        {
          "output_type": "display_data",
          "data": {
            "text/plain": [
              "n_peaks            0\n",
              "n_spikes           0\n",
              "n_spikes1          0\n",
              "n_spikes2          0\n",
              "n_spikes3          0\n",
              "alpha_power        0\n",
              "betha_power        0\n",
              "gamma_power        0\n",
              "delta_power    17410\n",
              "label              0\n",
              "n_spikes4          0\n",
              "dtype: int64"
            ]
          },
          "metadata": {
            "tags": []
          }
        }
      ]
    },
    {
      "cell_type": "code",
      "metadata": {
        "colab": {
          "base_uri": "https://localhost:8080/",
          "height": 406
        },
        "id": "E5Xy9iKAapXI",
        "outputId": "4773a71f-3d92-4c7e-fee4-c02f540b3909"
      },
      "source": [
        "dataset = pd.concat([dataset, datos_no_seizures.sample(frac =0.15, random_state=42 )], axis = 0)\n",
        "dataset.drop('delta_power', axis = 1, inplace = True)\n",
        "dataset"
      ],
      "execution_count": null,
      "outputs": [
        {
          "output_type": "execute_result",
          "data": {
            "text/html": [
              "<div>\n",
              "<style scoped>\n",
              "    .dataframe tbody tr th:only-of-type {\n",
              "        vertical-align: middle;\n",
              "    }\n",
              "\n",
              "    .dataframe tbody tr th {\n",
              "        vertical-align: top;\n",
              "    }\n",
              "\n",
              "    .dataframe thead th {\n",
              "        text-align: right;\n",
              "    }\n",
              "</style>\n",
              "<table border=\"1\" class=\"dataframe\">\n",
              "  <thead>\n",
              "    <tr style=\"text-align: right;\">\n",
              "      <th></th>\n",
              "      <th>n_peaks</th>\n",
              "      <th>n_spikes</th>\n",
              "      <th>n_spikes1</th>\n",
              "      <th>n_spikes2</th>\n",
              "      <th>n_spikes3</th>\n",
              "      <th>alpha_power</th>\n",
              "      <th>betha_power</th>\n",
              "      <th>gamma_power</th>\n",
              "      <th>label</th>\n",
              "      <th>n_spikes4</th>\n",
              "    </tr>\n",
              "  </thead>\n",
              "  <tbody>\n",
              "    <tr>\n",
              "      <th>0</th>\n",
              "      <td>16</td>\n",
              "      <td>3</td>\n",
              "      <td>3</td>\n",
              "      <td>0</td>\n",
              "      <td>0</td>\n",
              "      <td>3.330612e-11</td>\n",
              "      <td>1.236702e-11</td>\n",
              "      <td>4.065387e-12</td>\n",
              "      <td>pre_ictal</td>\n",
              "      <td>0</td>\n",
              "    </tr>\n",
              "    <tr>\n",
              "      <th>1</th>\n",
              "      <td>14</td>\n",
              "      <td>4</td>\n",
              "      <td>4</td>\n",
              "      <td>0</td>\n",
              "      <td>0</td>\n",
              "      <td>5.900423e-11</td>\n",
              "      <td>1.099658e-11</td>\n",
              "      <td>4.843339e-12</td>\n",
              "      <td>pre_ictal</td>\n",
              "      <td>0</td>\n",
              "    </tr>\n",
              "    <tr>\n",
              "      <th>2</th>\n",
              "      <td>26</td>\n",
              "      <td>7</td>\n",
              "      <td>7</td>\n",
              "      <td>0</td>\n",
              "      <td>0</td>\n",
              "      <td>7.533965e-11</td>\n",
              "      <td>1.976433e-11</td>\n",
              "      <td>4.576166e-12</td>\n",
              "      <td>pre_ictal</td>\n",
              "      <td>0</td>\n",
              "    </tr>\n",
              "    <tr>\n",
              "      <th>3</th>\n",
              "      <td>14</td>\n",
              "      <td>3</td>\n",
              "      <td>3</td>\n",
              "      <td>0</td>\n",
              "      <td>0</td>\n",
              "      <td>2.869018e-11</td>\n",
              "      <td>1.338699e-11</td>\n",
              "      <td>4.710653e-12</td>\n",
              "      <td>pre_ictal</td>\n",
              "      <td>0</td>\n",
              "    </tr>\n",
              "    <tr>\n",
              "      <th>4</th>\n",
              "      <td>20</td>\n",
              "      <td>4</td>\n",
              "      <td>4</td>\n",
              "      <td>0</td>\n",
              "      <td>0</td>\n",
              "      <td>2.984004e-11</td>\n",
              "      <td>1.256106e-11</td>\n",
              "      <td>4.744372e-12</td>\n",
              "      <td>pre_ictal</td>\n",
              "      <td>0</td>\n",
              "    </tr>\n",
              "    <tr>\n",
              "      <th>...</th>\n",
              "      <td>...</td>\n",
              "      <td>...</td>\n",
              "      <td>...</td>\n",
              "      <td>...</td>\n",
              "      <td>...</td>\n",
              "      <td>...</td>\n",
              "      <td>...</td>\n",
              "      <td>...</td>\n",
              "      <td>...</td>\n",
              "      <td>...</td>\n",
              "    </tr>\n",
              "    <tr>\n",
              "      <th>329120</th>\n",
              "      <td>46</td>\n",
              "      <td>6</td>\n",
              "      <td>6</td>\n",
              "      <td>0</td>\n",
              "      <td>0</td>\n",
              "      <td>2.764937e-10</td>\n",
              "      <td>2.905847e-11</td>\n",
              "      <td>2.192764e-11</td>\n",
              "      <td>normal</td>\n",
              "      <td>0</td>\n",
              "    </tr>\n",
              "    <tr>\n",
              "      <th>255592</th>\n",
              "      <td>11</td>\n",
              "      <td>2</td>\n",
              "      <td>2</td>\n",
              "      <td>0</td>\n",
              "      <td>0</td>\n",
              "      <td>3.765664e-11</td>\n",
              "      <td>3.074867e-12</td>\n",
              "      <td>1.053605e-12</td>\n",
              "      <td>normal</td>\n",
              "      <td>0</td>\n",
              "    </tr>\n",
              "    <tr>\n",
              "      <th>337800</th>\n",
              "      <td>82</td>\n",
              "      <td>12</td>\n",
              "      <td>12</td>\n",
              "      <td>0</td>\n",
              "      <td>0</td>\n",
              "      <td>5.879063e-10</td>\n",
              "      <td>2.789075e-10</td>\n",
              "      <td>3.531602e-10</td>\n",
              "      <td>normal</td>\n",
              "      <td>0</td>\n",
              "    </tr>\n",
              "    <tr>\n",
              "      <th>291136</th>\n",
              "      <td>63</td>\n",
              "      <td>9</td>\n",
              "      <td>9</td>\n",
              "      <td>0</td>\n",
              "      <td>0</td>\n",
              "      <td>1.246216e-10</td>\n",
              "      <td>1.479688e-10</td>\n",
              "      <td>1.534266e-10</td>\n",
              "      <td>normal</td>\n",
              "      <td>0</td>\n",
              "    </tr>\n",
              "    <tr>\n",
              "      <th>287857</th>\n",
              "      <td>14</td>\n",
              "      <td>2</td>\n",
              "      <td>2</td>\n",
              "      <td>0</td>\n",
              "      <td>0</td>\n",
              "      <td>2.193191e-11</td>\n",
              "      <td>2.114321e-11</td>\n",
              "      <td>1.251982e-11</td>\n",
              "      <td>normal</td>\n",
              "      <td>0</td>\n",
              "    </tr>\n",
              "  </tbody>\n",
              "</table>\n",
              "<p>227165 rows × 10 columns</p>\n",
              "</div>"
            ],
            "text/plain": [
              "        n_peaks  n_spikes  n_spikes1  ...   gamma_power      label  n_spikes4\n",
              "0            16         3          3  ...  4.065387e-12  pre_ictal          0\n",
              "1            14         4          4  ...  4.843339e-12  pre_ictal          0\n",
              "2            26         7          7  ...  4.576166e-12  pre_ictal          0\n",
              "3            14         3          3  ...  4.710653e-12  pre_ictal          0\n",
              "4            20         4          4  ...  4.744372e-12  pre_ictal          0\n",
              "...         ...       ...        ...  ...           ...        ...        ...\n",
              "329120       46         6          6  ...  2.192764e-11     normal          0\n",
              "255592       11         2          2  ...  1.053605e-12     normal          0\n",
              "337800       82        12         12  ...  3.531602e-10     normal          0\n",
              "291136       63         9          9  ...  1.534266e-10     normal          0\n",
              "287857       14         2          2  ...  1.251982e-11     normal          0\n",
              "\n",
              "[227165 rows x 10 columns]"
            ]
          },
          "metadata": {
            "tags": []
          },
          "execution_count": 54
        }
      ]
    },
    {
      "cell_type": "code",
      "metadata": {
        "colab": {
          "base_uri": "https://localhost:8080/",
          "height": 620
        },
        "id": "060675amhlAx",
        "outputId": "9738bda0-fe0a-4a74-a9cf-2f62170f8a9c"
      },
      "source": [
        "## Ejeutar \n",
        "\n",
        "#dataset = pd.get_dummies(dataset)\n",
        "y = dataset['label']\n",
        "dataset.drop(['label'],axis =1,inplace=True)\n",
        "display(dataset)\n",
        "y"
      ],
      "execution_count": null,
      "outputs": [
        {
          "output_type": "display_data",
          "data": {
            "text/html": [
              "<div>\n",
              "<style scoped>\n",
              "    .dataframe tbody tr th:only-of-type {\n",
              "        vertical-align: middle;\n",
              "    }\n",
              "\n",
              "    .dataframe tbody tr th {\n",
              "        vertical-align: top;\n",
              "    }\n",
              "\n",
              "    .dataframe thead th {\n",
              "        text-align: right;\n",
              "    }\n",
              "</style>\n",
              "<table border=\"1\" class=\"dataframe\">\n",
              "  <thead>\n",
              "    <tr style=\"text-align: right;\">\n",
              "      <th></th>\n",
              "      <th>n_peaks</th>\n",
              "      <th>n_spikes</th>\n",
              "      <th>n_spikes1</th>\n",
              "      <th>n_spikes2</th>\n",
              "      <th>n_spikes3</th>\n",
              "      <th>alpha_power</th>\n",
              "      <th>betha_power</th>\n",
              "      <th>gamma_power</th>\n",
              "      <th>n_spikes4</th>\n",
              "    </tr>\n",
              "  </thead>\n",
              "  <tbody>\n",
              "    <tr>\n",
              "      <th>0</th>\n",
              "      <td>16</td>\n",
              "      <td>3</td>\n",
              "      <td>3</td>\n",
              "      <td>0</td>\n",
              "      <td>0</td>\n",
              "      <td>3.330612e-11</td>\n",
              "      <td>1.236702e-11</td>\n",
              "      <td>4.065387e-12</td>\n",
              "      <td>0</td>\n",
              "    </tr>\n",
              "    <tr>\n",
              "      <th>1</th>\n",
              "      <td>14</td>\n",
              "      <td>4</td>\n",
              "      <td>4</td>\n",
              "      <td>0</td>\n",
              "      <td>0</td>\n",
              "      <td>5.900423e-11</td>\n",
              "      <td>1.099658e-11</td>\n",
              "      <td>4.843339e-12</td>\n",
              "      <td>0</td>\n",
              "    </tr>\n",
              "    <tr>\n",
              "      <th>2</th>\n",
              "      <td>26</td>\n",
              "      <td>7</td>\n",
              "      <td>7</td>\n",
              "      <td>0</td>\n",
              "      <td>0</td>\n",
              "      <td>7.533965e-11</td>\n",
              "      <td>1.976433e-11</td>\n",
              "      <td>4.576166e-12</td>\n",
              "      <td>0</td>\n",
              "    </tr>\n",
              "    <tr>\n",
              "      <th>3</th>\n",
              "      <td>14</td>\n",
              "      <td>3</td>\n",
              "      <td>3</td>\n",
              "      <td>0</td>\n",
              "      <td>0</td>\n",
              "      <td>2.869018e-11</td>\n",
              "      <td>1.338699e-11</td>\n",
              "      <td>4.710653e-12</td>\n",
              "      <td>0</td>\n",
              "    </tr>\n",
              "    <tr>\n",
              "      <th>4</th>\n",
              "      <td>20</td>\n",
              "      <td>4</td>\n",
              "      <td>4</td>\n",
              "      <td>0</td>\n",
              "      <td>0</td>\n",
              "      <td>2.984004e-11</td>\n",
              "      <td>1.256106e-11</td>\n",
              "      <td>4.744372e-12</td>\n",
              "      <td>0</td>\n",
              "    </tr>\n",
              "    <tr>\n",
              "      <th>...</th>\n",
              "      <td>...</td>\n",
              "      <td>...</td>\n",
              "      <td>...</td>\n",
              "      <td>...</td>\n",
              "      <td>...</td>\n",
              "      <td>...</td>\n",
              "      <td>...</td>\n",
              "      <td>...</td>\n",
              "      <td>...</td>\n",
              "    </tr>\n",
              "    <tr>\n",
              "      <th>329120</th>\n",
              "      <td>46</td>\n",
              "      <td>6</td>\n",
              "      <td>6</td>\n",
              "      <td>0</td>\n",
              "      <td>0</td>\n",
              "      <td>2.764937e-10</td>\n",
              "      <td>2.905847e-11</td>\n",
              "      <td>2.192764e-11</td>\n",
              "      <td>0</td>\n",
              "    </tr>\n",
              "    <tr>\n",
              "      <th>255592</th>\n",
              "      <td>11</td>\n",
              "      <td>2</td>\n",
              "      <td>2</td>\n",
              "      <td>0</td>\n",
              "      <td>0</td>\n",
              "      <td>3.765664e-11</td>\n",
              "      <td>3.074867e-12</td>\n",
              "      <td>1.053605e-12</td>\n",
              "      <td>0</td>\n",
              "    </tr>\n",
              "    <tr>\n",
              "      <th>337800</th>\n",
              "      <td>82</td>\n",
              "      <td>12</td>\n",
              "      <td>12</td>\n",
              "      <td>0</td>\n",
              "      <td>0</td>\n",
              "      <td>5.879063e-10</td>\n",
              "      <td>2.789075e-10</td>\n",
              "      <td>3.531602e-10</td>\n",
              "      <td>0</td>\n",
              "    </tr>\n",
              "    <tr>\n",
              "      <th>291136</th>\n",
              "      <td>63</td>\n",
              "      <td>9</td>\n",
              "      <td>9</td>\n",
              "      <td>0</td>\n",
              "      <td>0</td>\n",
              "      <td>1.246216e-10</td>\n",
              "      <td>1.479688e-10</td>\n",
              "      <td>1.534266e-10</td>\n",
              "      <td>0</td>\n",
              "    </tr>\n",
              "    <tr>\n",
              "      <th>287857</th>\n",
              "      <td>14</td>\n",
              "      <td>2</td>\n",
              "      <td>2</td>\n",
              "      <td>0</td>\n",
              "      <td>0</td>\n",
              "      <td>2.193191e-11</td>\n",
              "      <td>2.114321e-11</td>\n",
              "      <td>1.251982e-11</td>\n",
              "      <td>0</td>\n",
              "    </tr>\n",
              "  </tbody>\n",
              "</table>\n",
              "<p>227165 rows × 9 columns</p>\n",
              "</div>"
            ],
            "text/plain": [
              "        n_peaks  n_spikes  n_spikes1  ...   betha_power   gamma_power  n_spikes4\n",
              "0            16         3          3  ...  1.236702e-11  4.065387e-12          0\n",
              "1            14         4          4  ...  1.099658e-11  4.843339e-12          0\n",
              "2            26         7          7  ...  1.976433e-11  4.576166e-12          0\n",
              "3            14         3          3  ...  1.338699e-11  4.710653e-12          0\n",
              "4            20         4          4  ...  1.256106e-11  4.744372e-12          0\n",
              "...         ...       ...        ...  ...           ...           ...        ...\n",
              "329120       46         6          6  ...  2.905847e-11  2.192764e-11          0\n",
              "255592       11         2          2  ...  3.074867e-12  1.053605e-12          0\n",
              "337800       82        12         12  ...  2.789075e-10  3.531602e-10          0\n",
              "291136       63         9          9  ...  1.479688e-10  1.534266e-10          0\n",
              "287857       14         2          2  ...  2.114321e-11  1.251982e-11          0\n",
              "\n",
              "[227165 rows x 9 columns]"
            ]
          },
          "metadata": {
            "tags": []
          }
        },
        {
          "output_type": "execute_result",
          "data": {
            "text/plain": [
              "0         pre_ictal\n",
              "1         pre_ictal\n",
              "2         pre_ictal\n",
              "3         pre_ictal\n",
              "4         pre_ictal\n",
              "            ...    \n",
              "329120       normal\n",
              "255592       normal\n",
              "337800       normal\n",
              "291136       normal\n",
              "287857       normal\n",
              "Name: label, Length: 227165, dtype: object"
            ]
          },
          "metadata": {
            "tags": []
          },
          "execution_count": 55
        }
      ]
    },
    {
      "cell_type": "code",
      "metadata": {
        "id": "k2ueKhW7b38b"
      },
      "source": [
        "#Version 1 -----------------------------------------------------------------------------------------------------------\n",
        "#dataset = pd.get_dummies(dataset)\n",
        "#y = dataset[['label_ictal',\t'label_interictal',\t'label_normal',\t'label_pre_ictal']]\n",
        "#dataset.drop(['label_ictal',\t'label_interictal',\t'label_normal',\t'label_pre_ictal'],axis =1,inplace=True)\n",
        "#display(dataset)\n",
        "#y"
      ],
      "execution_count": null,
      "outputs": []
    },
    {
      "cell_type": "markdown",
      "metadata": {
        "id": "THfz3Zpfh2tm"
      },
      "source": [
        "#Procedimiento \n"
      ]
    },
    {
      "cell_type": "code",
      "metadata": {
        "colab": {
          "base_uri": "https://localhost:8080/"
        },
        "id": "_KgWpGVGh0HH",
        "outputId": "569c1850-c071-4eb5-e6f2-a38fdca21be7"
      },
      "source": [
        "from  sklearn.model_selection import train_test_split\n",
        "X_train, X_test, Y_train, Y_test = train_test_split(dataset, y,  test_size=0.2, random_state=42, stratify = y)\n",
        "Y_train"
      ],
      "execution_count": null,
      "outputs": [
        {
          "output_type": "execute_result",
          "data": {
            "text/plain": [
              "9153         normal\n",
              "284174       normal\n",
              "17841         ictal\n",
              "382624       normal\n",
              "42900     pre_ictal\n",
              "            ...    \n",
              "11136         ictal\n",
              "42891     pre_ictal\n",
              "12267         ictal\n",
              "46856         ictal\n",
              "2072          ictal\n",
              "Name: label, Length: 181732, dtype: object"
            ]
          },
          "metadata": {
            "tags": []
          },
          "execution_count": 57
        }
      ]
    },
    {
      "cell_type": "code",
      "metadata": {
        "colab": {
          "base_uri": "https://localhost:8080/"
        },
        "id": "FgkBQmein4HR",
        "outputId": "c4ffc7da-3dfa-4195-8f83-c3963d069d23"
      },
      "source": [
        "Y_test.value_counts()/len(Y_test)"
      ],
      "execution_count": null,
      "outputs": [
        {
          "output_type": "execute_result",
          "data": {
            "text/plain": [
              "ictal         0.291990\n",
              "normal        0.278454\n",
              "pre_ictal     0.248608\n",
              "interictal    0.180948\n",
              "Name: label, dtype: float64"
            ]
          },
          "metadata": {
            "tags": []
          },
          "execution_count": 18
        }
      ]
    },
    {
      "cell_type": "code",
      "metadata": {
        "colab": {
          "base_uri": "https://localhost:8080/"
        },
        "id": "T1tbHJe8n94s",
        "outputId": "80677b13-3978-4188-dbc3-75b801fbdb1f"
      },
      "source": [
        "Y_train.value_counts()/len(Y_train)"
      ],
      "execution_count": null,
      "outputs": [
        {
          "output_type": "execute_result",
          "data": {
            "text/plain": [
              "ictal         0.291996\n",
              "normal        0.278465\n",
              "pre_ictal     0.248608\n",
              "interictal    0.180931\n",
              "Name: label, dtype: float64"
            ]
          },
          "metadata": {
            "tags": []
          },
          "execution_count": 19
        }
      ]
    },
    {
      "cell_type": "code",
      "metadata": {
        "id": "PrQWq55Uh2JQ"
      },
      "source": [
        "min_max_scaler = preprocessing.MinMaxScaler()\n",
        "x_scaled = min_max_scaler.fit_transform(X_train)\n",
        "X_train = pd.DataFrame(x_scaled, columns = ['n_peaks', 'n_spikes', 'n_spikes1', 'n_spikes2', 'n_spikes3','alpha_power', 'betha_power', 'gamma_power', 'n_spikes4'])"
      ],
      "execution_count": null,
      "outputs": []
    },
    {
      "cell_type": "code",
      "metadata": {
        "id": "t_ifmO7uiFeX"
      },
      "source": [
        "x_scaled_test = min_max_scaler.transform(X_test)\n",
        "X_test = pd.DataFrame(x_scaled_test, columns = ['n_peaks', 'n_spikes', 'n_spikes1', 'n_spikes2', 'n_spikes3','alpha_power', 'betha_power', 'gamma_power', 'n_spikes4'])\n"
      ],
      "execution_count": null,
      "outputs": []
    },
    {
      "cell_type": "code",
      "metadata": {
        "id": "HrnlEkUuhg1K"
      },
      "source": [
        "#import sklearn.preprocessing\n",
        "\n",
        "#min_max_scaler = preprocessing.MinMaxScaler()\n",
        "#x_scaled = min_max_scaler.fit_transform(dataset)\n",
        "#dataset = pd.DataFrame(x_scaled, columns = ['n_peaks', 'n_spikes', 'n_spikes1', 'n_spikes2', 'n_spikes3','alpha_power', 'betha_power', 'gamma_power', 'n_spikes4'])\n"
      ],
      "execution_count": null,
      "outputs": []
    },
    {
      "cell_type": "code",
      "metadata": {
        "id": "GfYGKh4Ei4Mv"
      },
      "source": [
        "#from  sklearn.model_selection import train_test_split\n",
        "#X_train, X_test, Y_train, Y_test = train_test_split(dataset, y,  test_size=0.2, random_state=42,stratify = '')\n",
        "#Y_train"
      ],
      "execution_count": null,
      "outputs": []
    },
    {
      "cell_type": "markdown",
      "metadata": {
        "id": "On6F_Ex2UNiZ"
      },
      "source": [
        "# Tunning a decision tree"
      ]
    },
    {
      "cell_type": "code",
      "metadata": {
        "colab": {
          "base_uri": "https://localhost:8080/"
        },
        "id": "SeyrcRUJyYlI",
        "outputId": "93f70c06-192e-4a6d-dcd0-087461a37bf9"
      },
      "source": [
        "from sklearn.tree import DecisionTreeClassifier\n",
        "from sklearn.model_selection import GridSearchCV\n",
        "dic = {'criterion': ['gini','entropy'],\n",
        "       'splitter':['best', 'random'],\n",
        "       'max_depth': np.linspace(1,200,10),\n",
        "       'min_samples_split': [int(m) for m in np.linspace(10,100,10)],\n",
        "       'max_features':['auto', 'sqrt', 'log2','None']\n",
        "       }\n",
        "\n",
        "tree = DecisionTreeClassifier()\n",
        "clf = GridSearchCV(tree, dic, verbose =1,n_jobs=-1, scoring = 'f1_weighted')\n",
        "clf.fit(X_train, Y_train)"
      ],
      "execution_count": null,
      "outputs": [
        {
          "output_type": "stream",
          "text": [
            "Fitting 5 folds for each of 1600 candidates, totalling 8000 fits\n"
          ],
          "name": "stdout"
        },
        {
          "output_type": "stream",
          "text": [
            "[Parallel(n_jobs=-1)]: Using backend LokyBackend with 2 concurrent workers.\n",
            "[Parallel(n_jobs=-1)]: Done  46 tasks      | elapsed:    5.5s\n",
            "[Parallel(n_jobs=-1)]: Done 196 tasks      | elapsed:   18.4s\n",
            "[Parallel(n_jobs=-1)]: Done 494 tasks      | elapsed:  1.0min\n",
            "[Parallel(n_jobs=-1)]: Done 890 tasks      | elapsed:  2.6min\n",
            "[Parallel(n_jobs=-1)]: Done 1386 tasks      | elapsed:  4.9min\n",
            "[Parallel(n_jobs=-1)]: Done 2028 tasks      | elapsed:  7.4min\n",
            "[Parallel(n_jobs=-1)]: Done 2722 tasks      | elapsed: 10.6min\n",
            "[Parallel(n_jobs=-1)]: Done 3598 tasks      | elapsed: 14.1min\n",
            "[Parallel(n_jobs=-1)]: Done 4700 tasks      | elapsed: 18.6min\n",
            "[Parallel(n_jobs=-1)]: Done 5772 tasks      | elapsed: 25.4min\n",
            "[Parallel(n_jobs=-1)]: Done 6940 tasks      | elapsed: 33.0min\n",
            "[Parallel(n_jobs=-1)]: Done 8000 out of 8000 | elapsed: 39.7min finished\n"
          ],
          "name": "stderr"
        },
        {
          "output_type": "execute_result",
          "data": {
            "text/plain": [
              "GridSearchCV(cv=None, error_score=nan,\n",
              "             estimator=DecisionTreeClassifier(ccp_alpha=0.0, class_weight=None,\n",
              "                                              criterion='gini', max_depth=None,\n",
              "                                              max_features=None,\n",
              "                                              max_leaf_nodes=None,\n",
              "                                              min_impurity_decrease=0.0,\n",
              "                                              min_impurity_split=None,\n",
              "                                              min_samples_leaf=1,\n",
              "                                              min_samples_split=2,\n",
              "                                              min_weight_fraction_leaf=0.0,\n",
              "                                              presort='deprecated',\n",
              "                                              random_state=None,\n",
              "                                              splitter='best'),\n",
              "             iid=...\n",
              "             param_grid={'criterion': ['gini', 'entropy'],\n",
              "                         'max_depth': array([  1.        ,  23.11111111,  45.22222222,  67.33333333,\n",
              "        89.44444444, 111.55555556, 133.66666667, 155.77777778,\n",
              "       177.88888889, 200.        ]),\n",
              "                         'max_features': ['auto', 'sqrt', 'log2', 'None'],\n",
              "                         'min_samples_split': [10, 20, 30, 40, 50, 60, 70, 80,\n",
              "                                               90, 100],\n",
              "                         'splitter': ['best', 'random']},\n",
              "             pre_dispatch='2*n_jobs', refit=True, return_train_score=False,\n",
              "             scoring='f1_weighted', verbose=1)"
            ]
          },
          "metadata": {
            "tags": []
          },
          "execution_count": 20
        }
      ]
    },
    {
      "cell_type": "code",
      "metadata": {
        "colab": {
          "base_uri": "https://localhost:8080/"
        },
        "id": "3hohO7vI5OUG",
        "outputId": "e2360bb9-cfd3-4c23-d3aa-3f0e8c8bc920"
      },
      "source": [
        "clf.best_estimator_"
      ],
      "execution_count": null,
      "outputs": [
        {
          "output_type": "execute_result",
          "data": {
            "text/plain": [
              "DecisionTreeClassifier(ccp_alpha=0.0, class_weight=None, criterion='gini',\n",
              "                       max_depth=111.55555555555556, max_features='log2',\n",
              "                       max_leaf_nodes=None, min_impurity_decrease=0.0,\n",
              "                       min_impurity_split=None, min_samples_leaf=1,\n",
              "                       min_samples_split=10, min_weight_fraction_leaf=0.0,\n",
              "                       presort='deprecated', random_state=None,\n",
              "                       splitter='best')"
            ]
          },
          "metadata": {
            "tags": []
          },
          "execution_count": 21
        }
      ]
    },
    {
      "cell_type": "code",
      "metadata": {
        "colab": {
          "base_uri": "https://localhost:8080/"
        },
        "id": "7OifOPZJ_Noe",
        "outputId": "32fe02be-c759-4d28-c5f7-fadeb55f1478"
      },
      "source": [
        "import sklearn.metrics as m\n",
        "\n",
        "prediction_test = clf.best_estimator_.predict(X_test)\n",
        "print(m.f1_score(Y_test , prediction_test, average ='weighted'))"
      ],
      "execution_count": null,
      "outputs": [
        {
          "output_type": "stream",
          "text": [
            "0.5752190503102989\n"
          ],
          "name": "stdout"
        }
      ]
    },
    {
      "cell_type": "code",
      "metadata": {
        "id": "HLMb604r4g5s"
      },
      "source": [
        "prediction_train = clf.best_estimator_.predict(X_train)\n",
        "prediction_test = clf.best_estimator_.predict(X_test)"
      ],
      "execution_count": null,
      "outputs": []
    },
    {
      "cell_type": "code",
      "metadata": {
        "colab": {
          "base_uri": "https://localhost:8080/"
        },
        "id": "K_IcVl4c43d9",
        "outputId": "756e9238-d9c6-435e-cc09-d408972f623a"
      },
      "source": [
        "import sklearn.metrics as m\n",
        "print(m.classification_report(Y_train, prediction_train))\n",
        "print(m.classification_report(Y_test , prediction_test ))"
      ],
      "execution_count": null,
      "outputs": [
        {
          "output_type": "stream",
          "text": [
            "              precision    recall  f1-score   support\n",
            "\n",
            "           0       1.00      1.00      1.00     52901\n",
            "           1       0.81      0.61      0.70     33007\n",
            "           2       0.84      0.73      0.78     50499\n",
            "           3       0.82      0.70      0.76     45325\n",
            "\n",
            "   micro avg       0.88      0.78      0.83    181732\n",
            "   macro avg       0.87      0.76      0.81    181732\n",
            "weighted avg       0.88      0.78      0.82    181732\n",
            " samples avg       0.78      0.78      0.78    181732\n",
            "\n",
            "              precision    recall  f1-score   support\n",
            "\n",
            "           0       1.00      1.00      1.00     13430\n",
            "           1       0.37      0.29      0.32      8095\n",
            "           2       0.48      0.41      0.45     12758\n",
            "           3       0.43      0.37      0.40     11150\n",
            "\n",
            "   micro avg       0.62      0.55      0.59     45433\n",
            "   macro avg       0.57      0.52      0.54     45433\n",
            "weighted avg       0.60      0.55      0.58     45433\n",
            " samples avg       0.55      0.55      0.55     45433\n",
            "\n"
          ],
          "name": "stdout"
        },
        {
          "output_type": "stream",
          "text": [
            "/usr/local/lib/python3.6/dist-packages/sklearn/metrics/_classification.py:1272: UndefinedMetricWarning: Precision and F-score are ill-defined and being set to 0.0 in samples with no predicted labels. Use `zero_division` parameter to control this behavior.\n",
            "  _warn_prf(average, modifier, msg_start, len(result))\n"
          ],
          "name": "stderr"
        }
      ]
    },
    {
      "cell_type": "markdown",
      "metadata": {
        "id": "Foyhop1cEvoE"
      },
      "source": [
        "# Decision Tree no tuning "
      ]
    },
    {
      "cell_type": "code",
      "metadata": {
        "colab": {
          "base_uri": "https://localhost:8080/"
        },
        "id": "rRt4C8wPkdHN",
        "outputId": "a0075315-1675-4b2d-e90b-4dcb2d9412ff"
      },
      "source": [
        "from sklearn.tree import DecisionTreeClassifier\n",
        "from sklearn.model_selection import cross_val_score\n",
        "clf = DecisionTreeClassifier(random_state=0)\n",
        "scores = cross_val_score(clf, X_train, Y_train, cv=3,)\n",
        "clf.fit(X_train, Y_train)\n",
        "scores"
      ],
      "execution_count": null,
      "outputs": [
        {
          "output_type": "execute_result",
          "data": {
            "text/plain": [
              "array([0.58027667, 0.58145831, 0.57979101])"
            ]
          },
          "metadata": {
            "tags": []
          },
          "execution_count": 222
        }
      ]
    },
    {
      "cell_type": "code",
      "metadata": {
        "id": "C4780NA1mHK1"
      },
      "source": [
        "prediction_train  = clf.predict(X_train)\n",
        "prediction_test  = clf.predict(X_test)"
      ],
      "execution_count": null,
      "outputs": []
    },
    {
      "cell_type": "code",
      "metadata": {
        "colab": {
          "base_uri": "https://localhost:8080/"
        },
        "id": "evL_GpUgmSck",
        "outputId": "188d399e-a539-4bce-fa0d-55bfaaef6581"
      },
      "source": [
        "import sklearn.metrics as m\n",
        "\n",
        "print(m.classification_report(Y_train, prediction_train))\n",
        "print(m.classification_report(Y_test , prediction_test ))"
      ],
      "execution_count": null,
      "outputs": [
        {
          "output_type": "stream",
          "text": [
            "              precision    recall  f1-score   support\n",
            "\n",
            "           0       1.00      1.00      1.00     52901\n",
            "           1       1.00      1.00      1.00     33007\n",
            "           2       1.00      1.00      1.00     50499\n",
            "           3       1.00      1.00      1.00     45325\n",
            "\n",
            "   micro avg       1.00      1.00      1.00    181732\n",
            "   macro avg       1.00      1.00      1.00    181732\n",
            "weighted avg       1.00      1.00      1.00    181732\n",
            " samples avg       1.00      1.00      1.00    181732\n",
            "\n",
            "              precision    recall  f1-score   support\n",
            "\n",
            "           0       1.00      1.00      1.00     13430\n",
            "           1       0.33      0.34      0.33      8095\n",
            "           2       0.47      0.45      0.46     12758\n",
            "           3       0.41      0.42      0.42     11150\n",
            "\n",
            "   micro avg       0.59      0.59      0.59     45433\n",
            "   macro avg       0.55      0.55      0.55     45433\n",
            "weighted avg       0.59      0.59      0.59     45433\n",
            " samples avg       0.59      0.59      0.59     45433\n",
            "\n"
          ],
          "name": "stdout"
        }
      ]
    },
    {
      "cell_type": "code",
      "metadata": {
        "colab": {
          "base_uri": "https://localhost:8080/"
        },
        "id": "YCNue9Pazdap",
        "outputId": "0d4740c9-9aa2-44bc-89e9-99266c72c520"
      },
      "source": [
        "m.roc_auc_score(Y_test,prediction_test_RF)"
      ],
      "execution_count": null,
      "outputs": [
        {
          "output_type": "execute_result",
          "data": {
            "text/plain": [
              "0.6974091192782247"
            ]
          },
          "metadata": {
            "tags": []
          },
          "execution_count": 244
        }
      ]
    },
    {
      "cell_type": "markdown",
      "metadata": {
        "id": "iDlF_xZOUW22"
      },
      "source": [
        "# Random Forest "
      ]
    },
    {
      "cell_type": "code",
      "metadata": {
        "colab": {
          "base_uri": "https://localhost:8080/"
        },
        "id": "68bzYK2TwdY2",
        "outputId": "1393ae66-71eb-4026-89b6-6a543d25a82d"
      },
      "source": [
        "from  sklearn.ensemble import RandomForestClassifier\n",
        "from sklearn.model_selection import cross_val_score\n",
        "clf_RF = RandomForestClassifier(n_estimators = 72, random_state=0, criterion='gini',max_depth=100)\n",
        "scores = cross_val_score(clf_RF, X_train, Y_train, cv=3,)\n",
        "clf_RF.fit(X_train, Y_train)\n",
        "np.mean(scores)"
      ],
      "execution_count": null,
      "outputs": [
        {
          "output_type": "execute_result",
          "data": {
            "text/plain": [
              "0.6242763926118712"
            ]
          },
          "metadata": {
            "tags": []
          },
          "execution_count": 32
        }
      ]
    },
    {
      "cell_type": "code",
      "metadata": {
        "colab": {
          "base_uri": "https://localhost:8080/"
        },
        "id": "CnlSEX9o827_",
        "outputId": "a711179b-4873-4ee2-c800-5de538d9b197"
      },
      "source": [
        "clf_RF.score"
      ],
      "execution_count": null,
      "outputs": [
        {
          "output_type": "execute_result",
          "data": {
            "text/plain": [
              "<bound method ClassifierMixin.score of RandomForestClassifier(bootstrap=True, ccp_alpha=0.0, class_weight=None,\n",
              "                       criterion='entropy', max_depth=None, max_features='auto',\n",
              "                       max_leaf_nodes=None, max_samples=None,\n",
              "                       min_impurity_decrease=0.0, min_impurity_split=None,\n",
              "                       min_samples_leaf=1, min_samples_split=2,\n",
              "                       min_weight_fraction_leaf=0.0, n_estimators=72,\n",
              "                       n_jobs=None, oob_score=False, random_state=0, verbose=0,\n",
              "                       warm_start=False)>"
            ]
          },
          "metadata": {
            "tags": []
          },
          "execution_count": 31
        }
      ]
    },
    {
      "cell_type": "code",
      "metadata": {
        "id": "jU4TRuiSw57T"
      },
      "source": [
        "prediction_train_RF  = clf_RF.predict(X_train)\n",
        "prediction_test_RF  = clf_RF.predict(X_test)"
      ],
      "execution_count": null,
      "outputs": []
    },
    {
      "cell_type": "code",
      "metadata": {
        "colab": {
          "base_uri": "https://localhost:8080/"
        },
        "id": "dgaYsYq8xjKb",
        "outputId": "625102bf-d372-45fb-c338-2482a850d67b"
      },
      "source": [
        "print(m.classification_report(Y_train, prediction_train_RF) )\n",
        "print(m.classification_report(Y_test, prediction_test_RF) )"
      ],
      "execution_count": null,
      "outputs": [
        {
          "output_type": "stream",
          "text": [
            "              precision    recall  f1-score   support\n",
            "\n",
            "       ictal       1.00      1.00      1.00     53065\n",
            "  interictal       1.00      1.00      1.00     32881\n",
            "      normal       1.00      1.00      1.00     50606\n",
            "   pre_ictal       1.00      1.00      1.00     45180\n",
            "\n",
            "    accuracy                           1.00    181732\n",
            "   macro avg       1.00      1.00      1.00    181732\n",
            "weighted avg       1.00      1.00      1.00    181732\n",
            "\n",
            "              precision    recall  f1-score   support\n",
            "\n",
            "       ictal       1.00      1.00      1.00     13266\n",
            "  interictal       0.43      0.34      0.38      8221\n",
            "      normal       0.50      0.55      0.52     12651\n",
            "   pre_ictal       0.46      0.48      0.47     11295\n",
            "\n",
            "    accuracy                           0.62     45433\n",
            "   macro avg       0.60      0.59      0.59     45433\n",
            "weighted avg       0.62      0.62      0.62     45433\n",
            "\n"
          ],
          "name": "stdout"
        }
      ]
    },
    {
      "cell_type": "markdown",
      "metadata": {
        "id": "iaMD6V6bV12T"
      },
      "source": [
        "#Tuning Random Forest"
      ]
    },
    {
      "cell_type": "code",
      "metadata": {
        "id": "IBJbNWpOUlzy"
      },
      "source": [
        "from sklearn.model_selection import GridSearchCV\n",
        "from  sklearn.ensemble import RandomForestClassifier\n",
        "#dic = { 'n_estimators': [62,80,87],\n",
        " #      'criterion': ['gini','entropy'],\n",
        "  #     'max_depth': [80,100,120],\n",
        "       #'min_samples_split': [int(m) for m in np.linspace(10,100,)],\n",
        "       #\n",
        "   #    'max_features':['auto', 'sqrt', 'log2']\n",
        "       #'class_weight':['balanced', 'balanced_subsample', None]\n",
        "    #   }\n",
        "dic = { 'n_estimators': [87],\n",
        "       'criterion': ['entropy'],\n",
        "       'max_depth': [120],\n",
        "       #'min_samples_split': [int(m) for m in np.linspace(10,100,)],\n",
        "       #\n",
        "       'max_features':['auto']\n",
        "       #'class_weight':['balanced', 'balanced_subsample', None]\n",
        "       }\n",
        "\n",
        "forest = RandomForestClassifier()\n",
        "clf = GridSearchCV(forest, dic, verbose =10,n_jobs=-1, scoring = 'accuracy', cv = 3)\n",
        "clf.fit(X_train, Y_train)"
      ],
      "execution_count": null,
      "outputs": []
    },
    {
      "cell_type": "code",
      "metadata": {
        "colab": {
          "base_uri": "https://localhost:8080/"
        },
        "id": "jp47UelnHilX",
        "outputId": "3f7c94c9-08d5-43c7-cdda-afed9d64fc52"
      },
      "source": [
        "clf.cv_results_"
      ],
      "execution_count": null,
      "outputs": [
        {
          "output_type": "execute_result",
          "data": {
            "text/plain": [
              "{'mean_fit_time': array([24.43052634, 31.46495175, 24.52762739, 31.4407781 , 24.4815948 ,\n",
              "        29.2308778 ]),\n",
              " 'mean_score_time': array([2.60689028, 2.88287687, 2.48646426, 2.91230051, 2.4649419 ,\n",
              "        2.60133092]),\n",
              " 'mean_test_score': array([0.62119712, 0.62070157, 0.62125456, 0.62242217, 0.62108836,\n",
              "        0.6216394 ]),\n",
              " 'param_max_depth': masked_array(data=[80, 80, 100, 100, 120, 120],\n",
              "              mask=[False, False, False, False, False, False],\n",
              "        fill_value='?',\n",
              "             dtype=object),\n",
              " 'param_n_estimators': masked_array(data=[62, 80, 62, 80, 62, 80],\n",
              "              mask=[False, False, False, False, False, False],\n",
              "        fill_value='?',\n",
              "             dtype=object),\n",
              " 'params': [{'max_depth': 80, 'n_estimators': 62},\n",
              "  {'max_depth': 80, 'n_estimators': 80},\n",
              "  {'max_depth': 100, 'n_estimators': 62},\n",
              "  {'max_depth': 100, 'n_estimators': 80},\n",
              "  {'max_depth': 120, 'n_estimators': 62},\n",
              "  {'max_depth': 120, 'n_estimators': 80}],\n",
              " 'rank_test_score': array([4, 6, 3, 1, 5, 2], dtype=int32),\n",
              " 'split0_test_score': array([0.62322333, 0.62124672, 0.62327441, 0.62507715, 0.62170057,\n",
              "        0.6238456 ]),\n",
              " 'split1_test_score': array([0.6199256 , 0.62009305, 0.62031297, 0.61996824, 0.62005868,\n",
              "        0.62009545]),\n",
              " 'split2_test_score': array([0.62044243, 0.62076494, 0.62017629, 0.62222113, 0.62150584,\n",
              "        0.62097715]),\n",
              " 'std_fit_time': array([0.07471145, 0.18881985, 0.02618482, 0.1472195 , 0.12544218,\n",
              "        3.05595476]),\n",
              " 'std_score_time': array([0.05170157, 0.03856392, 0.02546592, 0.0170822 , 0.02929951,\n",
              "        0.42267733]),\n",
              " 'std_test_score': array([0.0014482 , 0.00047311, 0.00142934, 0.00209054, 0.00073242,\n",
              "        0.00160101])}"
            ]
          },
          "metadata": {
            "tags": []
          },
          "execution_count": 117
        }
      ]
    },
    {
      "cell_type": "code",
      "metadata": {
        "colab": {
          "base_uri": "https://localhost:8080/"
        },
        "id": "9owRD6hcFj3C",
        "outputId": "9437a937-8da2-4316-b8e5-3eb08df4e2ff"
      },
      "source": [
        "best_forest = clf.best_estimator_\n",
        "best_forest"
      ],
      "execution_count": null,
      "outputs": [
        {
          "output_type": "execute_result",
          "data": {
            "text/plain": [
              "RandomForestClassifier(bootstrap=True, ccp_alpha=0.0, class_weight=None,\n",
              "                       criterion='entropy', max_depth=120, max_features='auto',\n",
              "                       max_leaf_nodes=None, max_samples=None,\n",
              "                       min_impurity_decrease=0.0, min_impurity_split=None,\n",
              "                       min_samples_leaf=1, min_samples_split=2,\n",
              "                       min_weight_fraction_leaf=0.0, n_estimators=87,\n",
              "                       n_jobs=None, oob_score=False, random_state=None,\n",
              "                       verbose=0, warm_start=False)"
            ]
          },
          "metadata": {
            "tags": []
          },
          "execution_count": 123
        }
      ]
    },
    {
      "cell_type": "code",
      "metadata": {
        "id": "TLX6L6Ud33uX"
      },
      "source": [
        "prediction_train_RF  = best_forest.predict(X_train)\n",
        "prediction_test_RF  = best_forest.predict(X_test)"
      ],
      "execution_count": null,
      "outputs": []
    },
    {
      "cell_type": "code",
      "metadata": {
        "colab": {
          "base_uri": "https://localhost:8080/"
        },
        "id": "1VkRSqDh35sf",
        "outputId": "9956ab1a-9d42-4481-ba13-8a11e0084e54"
      },
      "source": [
        "print(m.classification_report(Y_train, prediction_train_RF) )\n",
        "print(m.classification_report(Y_test, prediction_test_RF) )"
      ],
      "execution_count": null,
      "outputs": [
        {
          "output_type": "stream",
          "text": [
            "              precision    recall  f1-score   support\n",
            "\n",
            "       ictal       1.00      1.00      1.00     53065\n",
            "  interictal       1.00      1.00      1.00     32881\n",
            "      normal       1.00      1.00      1.00     50606\n",
            "   pre_ictal       1.00      1.00      1.00     45180\n",
            "\n",
            "    accuracy                           1.00    181732\n",
            "   macro avg       1.00      1.00      1.00    181732\n",
            "weighted avg       1.00      1.00      1.00    181732\n",
            "\n",
            "              precision    recall  f1-score   support\n",
            "\n",
            "       ictal       1.00      1.00      1.00     13266\n",
            "  interictal       0.43      0.33      0.37      8221\n",
            "      normal       0.50      0.55      0.52     12651\n",
            "   pre_ictal       0.45      0.48      0.46     11295\n",
            "\n",
            "    accuracy                           0.62     45433\n",
            "   macro avg       0.60      0.59      0.59     45433\n",
            "weighted avg       0.62      0.62      0.62     45433\n",
            "\n"
          ],
          "name": "stdout"
        }
      ]
    },
    {
      "cell_type": "markdown",
      "metadata": {
        "id": "lj61oSnD9ldv"
      },
      "source": [
        ""
      ]
    },
    {
      "cell_type": "markdown",
      "metadata": {
        "id": "Eei76f889pLn"
      },
      "source": [
        "# Tunning Random Forest V2"
      ]
    },
    {
      "cell_type": "code",
      "metadata": {
        "id": "yEIkG3bD9wwh"
      },
      "source": [
        "from  sklearn.ensemble import RandomForestClassifier\n",
        "from sklearn.model_selection import cross_val_score\n",
        "clf_RF = RandomForestClassifier(n_estimators = 72, random_state=0, criterion='gini',max_depth=100)\n",
        "scores = cross_val_score(clf_RF, X_train, Y_train, cv=3,)\n",
        "clf_RF.fit(X_train, Y_train)\n",
        "np.mean(scores)"
      ],
      "execution_count": null,
      "outputs": []
    },
    {
      "cell_type": "code",
      "metadata": {
        "colab": {
          "base_uri": "https://localhost:8080/"
        },
        "id": "4loeyk2U9x0a",
        "outputId": "01619e06-e131-45a6-c6ec-49390558c6e1"
      },
      "source": [
        "n_estimators =  [2,3]\n",
        "criterion =  ['gini','entropy']\n",
        "max_depth= [30,20,50]\n",
        "       #'min_samples_split': [int(m) for m in np.linspace(10,100,)],\n",
        "       #\n",
        "max_features = ['auto', 'sqrt', 'log2']\n",
        "       #'class_weight':['balanced', 'balanced_subsample', None]\n",
        "       \n",
        "       \n",
        "for n_estimator in n_estimators:\n",
        "  for crit in criterion:\n",
        "    for mdepth in max_depth:\n",
        "      for mfeatures in max_features:\n",
        "        clf_RF = RandomForestClassifier(n_estimators = n_estimator , random_state=0, criterion=crit,max_depth=mdepth, max_features=mfeatures, random_state=42)\n",
        "        scores = cross_val_score(clf_RF, X_train, Y_train, cv=3)\n",
        "        clf_RF.fit(X_train, Y_train)\n",
        "        print(( \"estimator {}, crit {}, depth {}, features {}, score {}\".format(n_estimator, crit, mdepth, mfeatures, np.mean(scores))))\n",
        "\n",
        "\n"
      ],
      "execution_count": null,
      "outputs": [
        {
          "output_type": "stream",
          "text": [
            "estimator 2, crit gini, depth 30, features auto, score 0.5758974751959876\n",
            "estimator 2, crit gini, depth 30, features sqrt, score 0.5758974751959876\n",
            "estimator 2, crit gini, depth 30, features log2, score 0.5758974751959876\n",
            "estimator 2, crit gini, depth 20, features auto, score 0.5955803139722767\n",
            "estimator 2, crit gini, depth 20, features sqrt, score 0.5955803139722767\n",
            "estimator 2, crit gini, depth 20, features log2, score 0.5955803139722767\n",
            "estimator 2, crit gini, depth 50, features auto, score 0.5707580413435797\n",
            "estimator 2, crit gini, depth 50, features sqrt, score 0.5707580413435797\n",
            "estimator 2, crit gini, depth 50, features log2, score 0.5707580413435797\n",
            "estimator 2, crit entropy, depth 30, features auto, score 0.5737569541728872\n",
            "estimator 2, crit entropy, depth 30, features sqrt, score 0.5737569541728872\n",
            "estimator 2, crit entropy, depth 30, features log2, score 0.5737569541728872\n",
            "estimator 2, crit entropy, depth 20, features auto, score 0.5954592324893602\n",
            "estimator 2, crit entropy, depth 20, features sqrt, score 0.5954592324893602\n",
            "estimator 2, crit entropy, depth 20, features log2, score 0.5954592324893602\n",
            "estimator 2, crit entropy, depth 50, features auto, score 0.5727114524916629\n",
            "estimator 2, crit entropy, depth 50, features sqrt, score 0.5727114524916629\n",
            "estimator 2, crit entropy, depth 50, features log2, score 0.5727114524916629\n",
            "estimator 3, crit gini, depth 30, features auto, score 0.5895439365982288\n",
            "estimator 3, crit gini, depth 30, features sqrt, score 0.5895439365982288\n",
            "estimator 3, crit gini, depth 30, features log2, score 0.5895439365982288\n",
            "estimator 3, crit gini, depth 20, features auto, score 0.6042139012087673\n",
            "estimator 3, crit gini, depth 20, features sqrt, score 0.6042139012087673\n",
            "estimator 3, crit gini, depth 20, features log2, score 0.6042139012087673\n",
            "estimator 3, crit gini, depth 50, features auto, score 0.5846906330451046\n",
            "estimator 3, crit gini, depth 50, features sqrt, score 0.5846906330451046\n",
            "estimator 3, crit gini, depth 50, features log2, score 0.5846906330451046\n",
            "estimator 3, crit entropy, depth 30, features auto, score 0.5889606693600972\n",
            "estimator 3, crit entropy, depth 30, features sqrt, score 0.5889606693600972\n",
            "estimator 3, crit entropy, depth 30, features log2, score 0.5889606693600972\n",
            "estimator 3, crit entropy, depth 20, features auto, score 0.6042414063169755\n",
            "estimator 3, crit entropy, depth 20, features sqrt, score 0.6042414063169755\n",
            "estimator 3, crit entropy, depth 20, features log2, score 0.6042414063169755\n",
            "estimator 3, crit entropy, depth 50, features auto, score 0.5868256435269933\n",
            "estimator 3, crit entropy, depth 50, features sqrt, score 0.5868256435269933\n",
            "estimator 3, crit entropy, depth 50, features log2, score 0.5868256435269933\n"
          ],
          "name": "stdout"
        }
      ]
    },
    {
      "cell_type": "code",
      "metadata": {
        "colab": {
          "base_uri": "https://localhost:8080/"
        },
        "id": "t0q7kutFZjd6",
        "outputId": "201d367b-478a-4696-f82f-3256dd209e19"
      },
      "source": [
        "clf_RF = RandomForestClassifier(n_estimators = 3 , random_state=42, max_depth = 20)\n",
        "#scores = cross_val_score(clf_RF, X_train, Y_train, cv=3)\n",
        "clf_RF.fit(X_train, Y_train)\n",
        "#print(np.mean(scores))"
      ],
      "execution_count": null,
      "outputs": [
        {
          "output_type": "execute_result",
          "data": {
            "text/plain": [
              "RandomForestClassifier(bootstrap=True, ccp_alpha=0.0, class_weight=None,\n",
              "                       criterion='gini', max_depth=20, max_features='auto',\n",
              "                       max_leaf_nodes=None, max_samples=None,\n",
              "                       min_impurity_decrease=0.0, min_impurity_split=None,\n",
              "                       min_samples_leaf=1, min_samples_split=2,\n",
              "                       min_weight_fraction_leaf=0.0, n_estimators=3,\n",
              "                       n_jobs=None, oob_score=False, random_state=42, verbose=0,\n",
              "                       warm_start=False)"
            ]
          },
          "metadata": {
            "tags": []
          },
          "execution_count": 24
        }
      ]
    },
    {
      "cell_type": "code",
      "metadata": {
        "colab": {
          "base_uri": "https://localhost:8080/"
        },
        "id": "0SnBGQDmfVGq",
        "outputId": "0e73d270-c1de-40ca-e822-acbded452b59"
      },
      "source": [
        "clf_RF.feature_importances_"
      ],
      "execution_count": null,
      "outputs": [
        {
          "output_type": "execute_result",
          "data": {
            "text/plain": [
              "array([0.25100743, 0.02910103, 0.28178903, 0.00039742, 0.00092955,\n",
              "       0.10639989, 0.13651269, 0.18955545, 0.00430752])"
            ]
          },
          "metadata": {
            "tags": []
          },
          "execution_count": 27
        }
      ]
    },
    {
      "cell_type": "code",
      "metadata": {
        "colab": {
          "base_uri": "https://localhost:8080/"
        },
        "id": "t4nfGbfHdw_b",
        "outputId": "1a884905-3cc8-45b9-d084-490871f3073a"
      },
      "source": [
        ""
      ],
      "execution_count": null,
      "outputs": [
        {
          "output_type": "execute_result",
          "data": {
            "text/plain": [
              "array([0.00039742, 0.00092955, 0.00430752, 0.02910103, 0.10639989,\n",
              "       0.13651269, 0.18955545, 0.25100743, 0.28178903])"
            ]
          },
          "metadata": {
            "tags": []
          },
          "execution_count": 45
        }
      ]
    },
    {
      "cell_type": "code",
      "metadata": {
        "colab": {
          "base_uri": "https://localhost:8080/"
        },
        "id": "Dx_zZIE6e0TT",
        "outputId": "62161df0-8632-4372-d035-90148a6b2e26"
      },
      "source": [
        "X_train.columns"
      ],
      "execution_count": null,
      "outputs": [
        {
          "output_type": "execute_result",
          "data": {
            "text/plain": [
              "Index(['n_peaks', 'n_spikes', 'n_spikes1', 'n_spikes2', 'n_spikes3',\n",
              "       'alpha_power', 'betha_power', 'gamma_power', 'n_spikes4'],\n",
              "      dtype='object')"
            ]
          },
          "metadata": {
            "tags": []
          },
          "execution_count": 62
        }
      ]
    },
    {
      "cell_type": "code",
      "metadata": {
        "colab": {
          "base_uri": "https://localhost:8080/",
          "height": 531
        },
        "id": "KOQMBD3QcQua",
        "outputId": "81ff2726-614f-476c-b1d7-c9533d445be4"
      },
      "source": [
        "values =np.array([0.14857681, 0.04167048, 0.04299547, 0.00100661, 0.00195194,\n",
        "       0.22067235, 0.25562962, 0.28370476, 0.00379196])\n",
        "features =X_train.columns\n",
        "\n",
        "indices = np.argsort(values)\n",
        "h  = values[indices]\n",
        "plt.figure(figsize=(16,8))\n",
        "rounded = [round(x,5) for x in h]\n",
        "for index, value in enumerate(rounded):\n",
        "    plt.text(value, index, str(value))\n",
        "\n",
        "plt.barh(features[indices],values[indices],color = 'blue', alpha = 0.5)\n",
        "plt.xlabel('Importancia')\n",
        "plt.ylabel('variabe')\n",
        "plt.title('Importancia de los features')"
      ],
      "execution_count": null,
      "outputs": [
        {
          "output_type": "execute_result",
          "data": {
            "text/plain": [
              "Text(0.5, 1.0, 'Importancia de los features')"
            ]
          },
          "metadata": {
            "tags": []
          },
          "execution_count": 64
        },
        {
          "output_type": "display_data",
          "data": {
            "image/png": "[encoded data removed]",
            "text/plain": [
              "<Figure size 1152x576 with 1 Axes>"
            ]
          },
          "metadata": {
            "tags": [],
            "needs_background": "light"
          }
        }
      ]
    },
    {
      "cell_type": "code",
      "metadata": {
        "colab": {
          "base_uri": "https://localhost:8080/",
          "height": 530
        },
        "id": "2gK5QZ_Gdv15",
        "outputId": "d3dc50ba-a265-4135-f656-9695227d2bdb"
      },
      "source": [
        "import matplotlib.pyplot as plt\n",
        "plt.figure(figsize=(16,8\n",
        "))\n",
        "rounded = [round(x,5) for x in clf_RF.feature_importances_]\n",
        "for index, value in enumerate(rounded):\n",
        "    plt.text(value, index, str(value))\n",
        "\n",
        "plt.barh(X_train.columns,clf_RF.feature_importances_ ,color = 'blue', alpha = 0.5)\n",
        "plt.xlabel('Importancia')\n",
        "plt.ylabel('variabe')\n",
        "plt.title('Importancia de los features')"
      ],
      "execution_count": null,
      "outputs": [
        {
          "output_type": "execute_result",
          "data": {
            "text/plain": [
              "Text(0.5, 1.0, 'Importancia de los features')"
            ]
          },
          "metadata": {
            "tags": []
          },
          "execution_count": 39
        },
        {
          "output_type": "display_data",
          "data": {
            "image/png": "[encoded data removed]",
            "text/plain": [
              "<Figure size 1152x576 with 1 Axes>"
            ]
          },
          "metadata": {
            "tags": [],
            "needs_background": "light"
          }
        }
      ]
    },
    {
      "cell_type": "code",
      "metadata": {
        "colab": {
          "base_uri": "https://localhost:8080/"
        },
        "id": "j7SNont_bqVD",
        "outputId": "28b944e7-fac4-4f76-de48-7d45584f33bc"
      },
      "source": [
        "def dectree_max_depth(tree):\n",
        "    n_nodes = tree.node_count\n",
        "    children_left = tree.children_left\n",
        "    children_right = tree.children_right\n",
        "\n",
        "    def walk(node_id):\n",
        "        if (children_left[node_id] != children_right[node_id]):\n",
        "            left_max = 1 + walk(children_left[node_id])\n",
        "            right_max = 1 + walk(children_right[node_id])\n",
        "            return max(left_max, right_max)\n",
        "        else: # leaf\n",
        "            return 1\n",
        "\n",
        "    root_node_id = 0\n",
        "    return walk(root_node_id)\n",
        "\n",
        "\n",
        "treeObj = clf_RF.estimators_[0].tree_\n",
        "print(dectree_max_depth(treeObj))"
      ],
      "execution_count": null,
      "outputs": [
        {
          "output_type": "stream",
          "text": [
            "21\n"
          ],
          "name": "stdout"
        }
      ]
    },
    {
      "cell_type": "code",
      "metadata": {
        "id": "LUpkgMYQagGw"
      },
      "source": [
        "prediction_train_RF  = clf_RF.predict(X_train)\n",
        "prediction_test_RF  = clf_RF.predict(X_test)"
      ],
      "execution_count": null,
      "outputs": []
    },
    {
      "cell_type": "code",
      "metadata": {
        "colab": {
          "base_uri": "https://localhost:8080/"
        },
        "id": "I2Q5FR_NakPf",
        "outputId": "1dd0dbba-cf05-4ebf-c756-1be2523dc03f"
      },
      "source": [
        "from sklearn.metrics import classification_report\n",
        "print(classification_report(Y_train, prediction_train_RF) )\n",
        "print(classification_report(Y_test, prediction_test_RF) )"
      ],
      "execution_count": null,
      "outputs": [
        {
          "output_type": "stream",
          "text": [
            "              precision    recall  f1-score   support\n",
            "\n",
            "       ictal       1.00      1.00      1.00     53065\n",
            "  interictal       0.73      0.59      0.65     32881\n",
            "      normal       0.73      0.73      0.73     50606\n",
            "   pre_ictal       0.66      0.74      0.70     45180\n",
            "\n",
            "    accuracy                           0.79    181732\n",
            "   macro avg       0.78      0.77      0.77    181732\n",
            "weighted avg       0.79      0.79      0.79    181732\n",
            "\n",
            "              precision    recall  f1-score   support\n",
            "\n",
            "       ictal       1.00      1.00      1.00     13266\n",
            "  interictal       0.38      0.31      0.34      8221\n",
            "      normal       0.48      0.49      0.49     12651\n",
            "   pre_ictal       0.44      0.49      0.46     11295\n",
            "\n",
            "    accuracy                           0.61     45433\n",
            "   macro avg       0.58      0.57      0.57     45433\n",
            "weighted avg       0.60      0.61      0.60     45433\n",
            "\n"
          ],
          "name": "stdout"
        }
      ]
    },
    {
      "cell_type": "markdown",
      "metadata": {
        "id": "4NDg5_YZ3vO0"
      },
      "source": [
        "# Gradient Boosting - Base line \n"
      ]
    },
    {
      "cell_type": "code",
      "metadata": {
        "colab": {
          "base_uri": "https://localhost:8080/"
        },
        "id": "dcXWATU5ez6Q",
        "outputId": "505837a6-7b00-473a-e064-8636b093d1da"
      },
      "source": [
        "from sklearn.ensemble import GradientBoostingClassifier\n",
        "\n",
        "clf_RF = GradientBoostingClassifier()\n",
        "scores = cross_val_score(clf_RF, X_train, Y_train, cv=3)\n",
        "clf_RF.fit(X_train, Y_train)\n",
        "scores"
      ],
      "execution_count": null,
      "outputs": [
        {
          "output_type": "execute_result",
          "data": {
            "text/plain": [
              "array([0.62136419, 0.61947604, 0.61945953])"
            ]
          },
          "metadata": {
            "tags": []
          },
          "execution_count": 66
        }
      ]
    },
    {
      "cell_type": "code",
      "metadata": {
        "id": "7r2VdTIVlXwQ"
      },
      "source": [
        "prediction_train_RF  = clf_RF.predict(X_train)\n",
        "prediction_test_RF  = clf_RF.predict(X_test)"
      ],
      "execution_count": null,
      "outputs": []
    },
    {
      "cell_type": "code",
      "metadata": {
        "colab": {
          "base_uri": "https://localhost:8080/"
        },
        "id": "SoZQB15KlUYn",
        "outputId": "2ea226c4-be43-4393-a292-db8a8f6be476"
      },
      "source": [
        "print(m.classification_report(Y_train, prediction_train_RF) )\n",
        "print(m.classification_report(Y_test, prediction_test_RF) )"
      ],
      "execution_count": null,
      "outputs": [
        {
          "output_type": "stream",
          "text": [
            "              precision    recall  f1-score   support\n",
            "\n",
            "       ictal       1.00      1.00      1.00     52901\n",
            "  interictal       0.50      0.20      0.29     33007\n",
            "      normal       0.46      0.66      0.54     50499\n",
            "   pre_ictal       0.46      0.43      0.44     45325\n",
            "\n",
            "    accuracy                           0.62    181732\n",
            "   macro avg       0.60      0.57      0.57    181732\n",
            "weighted avg       0.62      0.62      0.60    181732\n",
            "\n",
            "              precision    recall  f1-score   support\n",
            "\n",
            "       ictal       1.00      1.00      1.00     13430\n",
            "  interictal       0.50      0.21      0.29      8095\n",
            "      normal       0.46      0.65      0.54     12758\n",
            "   pre_ictal       0.44      0.42      0.43     11150\n",
            "\n",
            "    accuracy                           0.62     45433\n",
            "   macro avg       0.60      0.57      0.57     45433\n",
            "weighted avg       0.62      0.62      0.61     45433\n",
            "\n"
          ],
          "name": "stdout"
        }
      ]
    }
  ]
}