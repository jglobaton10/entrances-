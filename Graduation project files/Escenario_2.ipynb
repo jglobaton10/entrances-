{
  "nbformat": 4,
  "nbformat_minor": 0,
  "metadata": {
    "colab": {
      "name": "Escenario 2.ipynb",
      "provenance": []
    },
    "kernelspec": {
      "name": "python3",
      "display_name": "Python 3"
    }
  },
  "cells": [
    {
      "cell_type": "code",
      "metadata": {
        "colab": {
          "base_uri": "https://localhost:8080/"
        },
        "id": "L--L-oazfDIF",
        "outputId": "20fb53f4-3b29-4bb2-926d-a4c4626b16a4"
      },
      "source": [
        "from google.colab import drive\n",
        "drive.mount('/content/drive')\n",
        "##4/1AY0e-g70bMlh8c7O5lSpvDL87mzdstNmHmKUvdJUh6cv3WbXdf7kfHC3ZLI"
      ],
      "execution_count": null,
      "outputs": [
        {
          "output_type": "stream",
          "text": [
            "Mounted at /content/drive\n"
          ],
          "name": "stdout"
        }
      ]
    },
    {
      "cell_type": "code",
      "metadata": {
        "id": "uG2imvftDmnl"
      },
      "source": [
        "from scipy.signal import find_peaks,peak_widths,peak_prominences, savgol_filter\n",
        "import matplotlib.pyplot as plt\n",
        "import numpy as np\n",
        "import matplotlib.pyplot as plt\n",
        "import pandas as pd\n",
        "from sklearn import preprocessing\n",
        "from sklearn.model_selection import train_test_split\n",
        "from sklearn.metrics import silhouette_samples, silhouette_score,davies_bouldin_score,calinski_harabasz_score\n",
        "from  sklearn.cluster import KMeans, DBSCAN, AgglomerativeClustering, AffinityPropagation, Birch, OPTICS"
      ],
      "execution_count": null,
      "outputs": []
    },
    {
      "cell_type": "code",
      "metadata": {
        "id": "rsXDyLuRE7SN"
      },
      "source": [
        "from sklearn.tree import DecisionTreeClassifier\n",
        "from sklearn.model_selection import cross_val_score\n",
        "from  sklearn.model_selection import train_test_split,GridSearchCV\n",
        "from sklearn.ensemble import BaggingClassifier,AdaBoostClassifier, GradientBoostingClassifier,RandomForestClassifier\n",
        "from  sklearn.metrics import classification_report\n"
      ],
      "execution_count": null,
      "outputs": []
    },
    {
      "cell_type": "code",
      "metadata": {
        "id": "-zuDVQaVDveP"
      },
      "source": [
        "## Datos seizures \n",
        "datos_seizures1 = pd.read_csv('/content/drive/My Drive/Proyecto de Grado Docs/Datos_seizures1.csv')\n",
        "datos_seizures2= pd.read_csv('/content/drive/My Drive/Proyecto de Grado Docs/Datos_seizures2.csv')\n",
        "datos_seizures3 = pd.read_csv('/content/drive/My Drive/Proyecto de Grado Docs/Datos_seizures3.csv')\n",
        "datos_seizures4 = pd.read_csv('/content/drive/My Drive/Proyecto de Grado Docs/Datos_seizures4.csv')\n",
        "datos_seizures5 = pd.read_csv('/content/drive/My Drive/Proyecto de Grado Docs/Datos_seizures5.csv')\n",
        "datos_seizures6 = pd.read_csv('/content/drive/My Drive/Proyecto de Grado Docs/Datos_seizures6.csv')\n",
        "\n",
        "##Datos no seizures \n",
        "datos_no_seizures  = pd.read_csv('/content/drive/My Drive/Proyecto de Grado Docs/Datos_parte2.csv')"
      ],
      "execution_count": null,
      "outputs": []
    },
    {
      "cell_type": "code",
      "metadata": {
        "colab": {
          "base_uri": "https://localhost:8080/",
          "height": 419
        },
        "id": "TBBPmD6WDxvz",
        "outputId": "49e92a45-1c59-4069-970f-fb6ea264ee24"
      },
      "source": [
        "dataset = pd.concat([datos_seizures1,datos_seizures2,datos_seizures3,datos_seizures4,datos_seizures5,datos_seizures6 ], axis=0)\n",
        "dataset = pd.concat([dataset, datos_no_seizures.sample(frac =0.15, random_state=42 )], axis = 0)\n",
        "dataset.drop('delta_power', axis = 1, inplace = True)\n",
        "dataset"
      ],
      "execution_count": null,
      "outputs": [
        {
          "output_type": "execute_result",
          "data": {
            "text/html": [
              "<div>\n",
              "<style scoped>\n",
              "    .dataframe tbody tr th:only-of-type {\n",
              "        vertical-align: middle;\n",
              "    }\n",
              "\n",
              "    .dataframe tbody tr th {\n",
              "        vertical-align: top;\n",
              "    }\n",
              "\n",
              "    .dataframe thead th {\n",
              "        text-align: right;\n",
              "    }\n",
              "</style>\n",
              "<table border=\"1\" class=\"dataframe\">\n",
              "  <thead>\n",
              "    <tr style=\"text-align: right;\">\n",
              "      <th></th>\n",
              "      <th>n_peaks</th>\n",
              "      <th>n_spikes</th>\n",
              "      <th>n_spikes1</th>\n",
              "      <th>n_spikes2</th>\n",
              "      <th>n_spikes3</th>\n",
              "      <th>alpha_power</th>\n",
              "      <th>betha_power</th>\n",
              "      <th>gamma_power</th>\n",
              "      <th>label</th>\n",
              "      <th>n_spikes4</th>\n",
              "    </tr>\n",
              "  </thead>\n",
              "  <tbody>\n",
              "    <tr>\n",
              "      <th>0</th>\n",
              "      <td>16</td>\n",
              "      <td>3</td>\n",
              "      <td>3</td>\n",
              "      <td>0</td>\n",
              "      <td>0</td>\n",
              "      <td>3.330612e-11</td>\n",
              "      <td>1.236702e-11</td>\n",
              "      <td>4.065387e-12</td>\n",
              "      <td>pre_ictal</td>\n",
              "      <td>0</td>\n",
              "    </tr>\n",
              "    <tr>\n",
              "      <th>1</th>\n",
              "      <td>14</td>\n",
              "      <td>4</td>\n",
              "      <td>4</td>\n",
              "      <td>0</td>\n",
              "      <td>0</td>\n",
              "      <td>5.900423e-11</td>\n",
              "      <td>1.099658e-11</td>\n",
              "      <td>4.843339e-12</td>\n",
              "      <td>pre_ictal</td>\n",
              "      <td>0</td>\n",
              "    </tr>\n",
              "    <tr>\n",
              "      <th>2</th>\n",
              "      <td>26</td>\n",
              "      <td>7</td>\n",
              "      <td>7</td>\n",
              "      <td>0</td>\n",
              "      <td>0</td>\n",
              "      <td>7.533965e-11</td>\n",
              "      <td>1.976433e-11</td>\n",
              "      <td>4.576166e-12</td>\n",
              "      <td>pre_ictal</td>\n",
              "      <td>0</td>\n",
              "    </tr>\n",
              "    <tr>\n",
              "      <th>3</th>\n",
              "      <td>14</td>\n",
              "      <td>3</td>\n",
              "      <td>3</td>\n",
              "      <td>0</td>\n",
              "      <td>0</td>\n",
              "      <td>2.869018e-11</td>\n",
              "      <td>1.338699e-11</td>\n",
              "      <td>4.710653e-12</td>\n",
              "      <td>pre_ictal</td>\n",
              "      <td>0</td>\n",
              "    </tr>\n",
              "    <tr>\n",
              "      <th>4</th>\n",
              "      <td>20</td>\n",
              "      <td>4</td>\n",
              "      <td>4</td>\n",
              "      <td>0</td>\n",
              "      <td>0</td>\n",
              "      <td>2.984004e-11</td>\n",
              "      <td>1.256106e-11</td>\n",
              "      <td>4.744372e-12</td>\n",
              "      <td>pre_ictal</td>\n",
              "      <td>0</td>\n",
              "    </tr>\n",
              "    <tr>\n",
              "      <th>...</th>\n",
              "      <td>...</td>\n",
              "      <td>...</td>\n",
              "      <td>...</td>\n",
              "      <td>...</td>\n",
              "      <td>...</td>\n",
              "      <td>...</td>\n",
              "      <td>...</td>\n",
              "      <td>...</td>\n",
              "      <td>...</td>\n",
              "      <td>...</td>\n",
              "    </tr>\n",
              "    <tr>\n",
              "      <th>329120</th>\n",
              "      <td>46</td>\n",
              "      <td>6</td>\n",
              "      <td>6</td>\n",
              "      <td>0</td>\n",
              "      <td>0</td>\n",
              "      <td>2.764937e-10</td>\n",
              "      <td>2.905847e-11</td>\n",
              "      <td>2.192764e-11</td>\n",
              "      <td>normal</td>\n",
              "      <td>0</td>\n",
              "    </tr>\n",
              "    <tr>\n",
              "      <th>255592</th>\n",
              "      <td>11</td>\n",
              "      <td>2</td>\n",
              "      <td>2</td>\n",
              "      <td>0</td>\n",
              "      <td>0</td>\n",
              "      <td>3.765664e-11</td>\n",
              "      <td>3.074867e-12</td>\n",
              "      <td>1.053605e-12</td>\n",
              "      <td>normal</td>\n",
              "      <td>0</td>\n",
              "    </tr>\n",
              "    <tr>\n",
              "      <th>337800</th>\n",
              "      <td>82</td>\n",
              "      <td>12</td>\n",
              "      <td>12</td>\n",
              "      <td>0</td>\n",
              "      <td>0</td>\n",
              "      <td>5.879063e-10</td>\n",
              "      <td>2.789075e-10</td>\n",
              "      <td>3.531602e-10</td>\n",
              "      <td>normal</td>\n",
              "      <td>0</td>\n",
              "    </tr>\n",
              "    <tr>\n",
              "      <th>291136</th>\n",
              "      <td>63</td>\n",
              "      <td>9</td>\n",
              "      <td>9</td>\n",
              "      <td>0</td>\n",
              "      <td>0</td>\n",
              "      <td>1.246216e-10</td>\n",
              "      <td>1.479688e-10</td>\n",
              "      <td>1.534266e-10</td>\n",
              "      <td>normal</td>\n",
              "      <td>0</td>\n",
              "    </tr>\n",
              "    <tr>\n",
              "      <th>287857</th>\n",
              "      <td>14</td>\n",
              "      <td>2</td>\n",
              "      <td>2</td>\n",
              "      <td>0</td>\n",
              "      <td>0</td>\n",
              "      <td>2.193191e-11</td>\n",
              "      <td>2.114321e-11</td>\n",
              "      <td>1.251982e-11</td>\n",
              "      <td>normal</td>\n",
              "      <td>0</td>\n",
              "    </tr>\n",
              "  </tbody>\n",
              "</table>\n",
              "<p>227165 rows × 10 columns</p>\n",
              "</div>"
            ],
            "text/plain": [
              "        n_peaks  n_spikes  n_spikes1  ...   gamma_power      label  n_spikes4\n",
              "0            16         3          3  ...  4.065387e-12  pre_ictal          0\n",
              "1            14         4          4  ...  4.843339e-12  pre_ictal          0\n",
              "2            26         7          7  ...  4.576166e-12  pre_ictal          0\n",
              "3            14         3          3  ...  4.710653e-12  pre_ictal          0\n",
              "4            20         4          4  ...  4.744372e-12  pre_ictal          0\n",
              "...         ...       ...        ...  ...           ...        ...        ...\n",
              "329120       46         6          6  ...  2.192764e-11     normal          0\n",
              "255592       11         2          2  ...  1.053605e-12     normal          0\n",
              "337800       82        12         12  ...  3.531602e-10     normal          0\n",
              "291136       63         9          9  ...  1.534266e-10     normal          0\n",
              "287857       14         2          2  ...  1.251982e-11     normal          0\n",
              "\n",
              "[227165 rows x 10 columns]"
            ]
          },
          "metadata": {
            "tags": []
          },
          "execution_count": 5
        }
      ]
    },
    {
      "cell_type": "code",
      "metadata": {
        "colab": {
          "base_uri": "https://localhost:8080/",
          "height": 204
        },
        "id": "RWQtvXMCfIk-",
        "outputId": "f2df38e3-e8e6-4815-aef7-ffc429b960cb"
      },
      "source": [
        "dataset.groupby('label').mean()[['n_peaks', 'n_spikes', 'n_spikes1', 'n_spikes2', 'n_spikes3', 'n_spikes4']]"
      ],
      "execution_count": null,
      "outputs": [
        {
          "output_type": "execute_result",
          "data": {
            "text/html": [
              "<div>\n",
              "<style scoped>\n",
              "    .dataframe tbody tr th:only-of-type {\n",
              "        vertical-align: middle;\n",
              "    }\n",
              "\n",
              "    .dataframe tbody tr th {\n",
              "        vertical-align: top;\n",
              "    }\n",
              "\n",
              "    .dataframe thead th {\n",
              "        text-align: right;\n",
              "    }\n",
              "</style>\n",
              "<table border=\"1\" class=\"dataframe\">\n",
              "  <thead>\n",
              "    <tr style=\"text-align: right;\">\n",
              "      <th></th>\n",
              "      <th>n_peaks</th>\n",
              "      <th>n_spikes</th>\n",
              "      <th>n_spikes1</th>\n",
              "      <th>n_spikes2</th>\n",
              "      <th>n_spikes3</th>\n",
              "      <th>n_spikes4</th>\n",
              "    </tr>\n",
              "    <tr>\n",
              "      <th>label</th>\n",
              "      <th></th>\n",
              "      <th></th>\n",
              "      <th></th>\n",
              "      <th></th>\n",
              "      <th></th>\n",
              "      <th></th>\n",
              "    </tr>\n",
              "  </thead>\n",
              "  <tbody>\n",
              "    <tr>\n",
              "      <th>ictal</th>\n",
              "      <td>2941.818818</td>\n",
              "      <td>447.443970</td>\n",
              "      <td>438.444543</td>\n",
              "      <td>0.716950</td>\n",
              "      <td>0.941762</td>\n",
              "      <td>7.340716</td>\n",
              "    </tr>\n",
              "    <tr>\n",
              "      <th>interictal</th>\n",
              "      <td>47.430393</td>\n",
              "      <td>8.056129</td>\n",
              "      <td>7.981728</td>\n",
              "      <td>0.011240</td>\n",
              "      <td>0.018734</td>\n",
              "      <td>0.044426</td>\n",
              "    </tr>\n",
              "    <tr>\n",
              "      <th>normal</th>\n",
              "      <td>41.125915</td>\n",
              "      <td>6.984919</td>\n",
              "      <td>6.900596</td>\n",
              "      <td>0.013548</td>\n",
              "      <td>0.029230</td>\n",
              "      <td>0.041545</td>\n",
              "    </tr>\n",
              "    <tr>\n",
              "      <th>pre_ictal</th>\n",
              "      <td>48.149075</td>\n",
              "      <td>8.545941</td>\n",
              "      <td>8.493050</td>\n",
              "      <td>0.007455</td>\n",
              "      <td>0.010323</td>\n",
              "      <td>0.035113</td>\n",
              "    </tr>\n",
              "  </tbody>\n",
              "</table>\n",
              "</div>"
            ],
            "text/plain": [
              "                n_peaks    n_spikes  ...  n_spikes3  n_spikes4\n",
              "label                                ...                      \n",
              "ictal       2941.818818  447.443970  ...   0.941762   7.340716\n",
              "interictal    47.430393    8.056129  ...   0.018734   0.044426\n",
              "normal        41.125915    6.984919  ...   0.029230   0.041545\n",
              "pre_ictal     48.149075    8.545941  ...   0.010323   0.035113\n",
              "\n",
              "[4 rows x 6 columns]"
            ]
          },
          "metadata": {
            "tags": []
          },
          "execution_count": 6
        }
      ]
    },
    {
      "cell_type": "code",
      "metadata": {
        "colab": {
          "base_uri": "https://localhost:8080/"
        },
        "id": "mKfSNqJGEPm4",
        "outputId": "bf415f2e-9af4-4870-b3bf-2f7fd35a5b84"
      },
      "source": [
        "dataset['label'].value_counts()"
      ],
      "execution_count": null,
      "outputs": [
        {
          "output_type": "execute_result",
          "data": {
            "text/plain": [
              "ictal         66331\n",
              "normal        63257\n",
              "pre_ictal     56475\n",
              "interictal    41102\n",
              "Name: label, dtype: int64"
            ]
          },
          "metadata": {
            "tags": []
          },
          "execution_count": 7
        }
      ]
    },
    {
      "cell_type": "code",
      "metadata": {
        "id": "KE2DZVQ9D_aZ"
      },
      "source": [
        "#dataset['label'].replace({ 'pre_ictal':'ictal', 'interictal':'normal'}, inplace = True)\n",
        "dataset = dataset[(dataset['label'] == 'pre_ictal') | (dataset['label'] == 'normal')]"
      ],
      "execution_count": null,
      "outputs": []
    },
    {
      "cell_type": "code",
      "metadata": {
        "colab": {
          "base_uri": "https://localhost:8080/"
        },
        "id": "JXLTAwUVEemO",
        "outputId": "e824e9cf-334e-49b5-9d0d-6085a600d495"
      },
      "source": [
        "dataset['label'].value_counts()"
      ],
      "execution_count": null,
      "outputs": [
        {
          "output_type": "execute_result",
          "data": {
            "text/plain": [
              "normal       63257\n",
              "pre_ictal    56475\n",
              "Name: label, dtype: int64"
            ]
          },
          "metadata": {
            "tags": []
          },
          "execution_count": 9
        }
      ]
    },
    {
      "cell_type": "code",
      "metadata": {
        "colab": {
          "base_uri": "https://localhost:8080/",
          "height": 708
        },
        "id": "_vLwzgg6ElM4",
        "outputId": "62cf5bea-c8af-457e-9dec-774a2b7e9135"
      },
      "source": [
        "y = dataset['label']\n",
        "dataset.drop(['label'],axis =1,inplace=True)\n",
        "display(dataset)\n",
        "y"
      ],
      "execution_count": null,
      "outputs": [
        {
          "output_type": "stream",
          "text": [
            "/usr/local/lib/python3.6/dist-packages/pandas/core/frame.py:4174: SettingWithCopyWarning: \n",
            "A value is trying to be set on a copy of a slice from a DataFrame\n",
            "\n",
            "See the caveats in the documentation: https://pandas.pydata.org/pandas-docs/stable/user_guide/indexing.html#returning-a-view-versus-a-copy\n",
            "  errors=errors,\n"
          ],
          "name": "stderr"
        },
        {
          "output_type": "display_data",
          "data": {
            "text/html": [
              "<div>\n",
              "<style scoped>\n",
              "    .dataframe tbody tr th:only-of-type {\n",
              "        vertical-align: middle;\n",
              "    }\n",
              "\n",
              "    .dataframe tbody tr th {\n",
              "        vertical-align: top;\n",
              "    }\n",
              "\n",
              "    .dataframe thead th {\n",
              "        text-align: right;\n",
              "    }\n",
              "</style>\n",
              "<table border=\"1\" class=\"dataframe\">\n",
              "  <thead>\n",
              "    <tr style=\"text-align: right;\">\n",
              "      <th></th>\n",
              "      <th>n_peaks</th>\n",
              "      <th>n_spikes</th>\n",
              "      <th>n_spikes1</th>\n",
              "      <th>n_spikes2</th>\n",
              "      <th>n_spikes3</th>\n",
              "      <th>alpha_power</th>\n",
              "      <th>betha_power</th>\n",
              "      <th>gamma_power</th>\n",
              "      <th>n_spikes4</th>\n",
              "    </tr>\n",
              "  </thead>\n",
              "  <tbody>\n",
              "    <tr>\n",
              "      <th>0</th>\n",
              "      <td>16</td>\n",
              "      <td>3</td>\n",
              "      <td>3</td>\n",
              "      <td>0</td>\n",
              "      <td>0</td>\n",
              "      <td>3.330612e-11</td>\n",
              "      <td>1.236702e-11</td>\n",
              "      <td>4.065387e-12</td>\n",
              "      <td>0</td>\n",
              "    </tr>\n",
              "    <tr>\n",
              "      <th>1</th>\n",
              "      <td>14</td>\n",
              "      <td>4</td>\n",
              "      <td>4</td>\n",
              "      <td>0</td>\n",
              "      <td>0</td>\n",
              "      <td>5.900423e-11</td>\n",
              "      <td>1.099658e-11</td>\n",
              "      <td>4.843339e-12</td>\n",
              "      <td>0</td>\n",
              "    </tr>\n",
              "    <tr>\n",
              "      <th>2</th>\n",
              "      <td>26</td>\n",
              "      <td>7</td>\n",
              "      <td>7</td>\n",
              "      <td>0</td>\n",
              "      <td>0</td>\n",
              "      <td>7.533965e-11</td>\n",
              "      <td>1.976433e-11</td>\n",
              "      <td>4.576166e-12</td>\n",
              "      <td>0</td>\n",
              "    </tr>\n",
              "    <tr>\n",
              "      <th>3</th>\n",
              "      <td>14</td>\n",
              "      <td>3</td>\n",
              "      <td>3</td>\n",
              "      <td>0</td>\n",
              "      <td>0</td>\n",
              "      <td>2.869018e-11</td>\n",
              "      <td>1.338699e-11</td>\n",
              "      <td>4.710653e-12</td>\n",
              "      <td>0</td>\n",
              "    </tr>\n",
              "    <tr>\n",
              "      <th>4</th>\n",
              "      <td>20</td>\n",
              "      <td>4</td>\n",
              "      <td>4</td>\n",
              "      <td>0</td>\n",
              "      <td>0</td>\n",
              "      <td>2.984004e-11</td>\n",
              "      <td>1.256106e-11</td>\n",
              "      <td>4.744372e-12</td>\n",
              "      <td>0</td>\n",
              "    </tr>\n",
              "    <tr>\n",
              "      <th>...</th>\n",
              "      <td>...</td>\n",
              "      <td>...</td>\n",
              "      <td>...</td>\n",
              "      <td>...</td>\n",
              "      <td>...</td>\n",
              "      <td>...</td>\n",
              "      <td>...</td>\n",
              "      <td>...</td>\n",
              "      <td>...</td>\n",
              "    </tr>\n",
              "    <tr>\n",
              "      <th>329120</th>\n",
              "      <td>46</td>\n",
              "      <td>6</td>\n",
              "      <td>6</td>\n",
              "      <td>0</td>\n",
              "      <td>0</td>\n",
              "      <td>2.764937e-10</td>\n",
              "      <td>2.905847e-11</td>\n",
              "      <td>2.192764e-11</td>\n",
              "      <td>0</td>\n",
              "    </tr>\n",
              "    <tr>\n",
              "      <th>255592</th>\n",
              "      <td>11</td>\n",
              "      <td>2</td>\n",
              "      <td>2</td>\n",
              "      <td>0</td>\n",
              "      <td>0</td>\n",
              "      <td>3.765664e-11</td>\n",
              "      <td>3.074867e-12</td>\n",
              "      <td>1.053605e-12</td>\n",
              "      <td>0</td>\n",
              "    </tr>\n",
              "    <tr>\n",
              "      <th>337800</th>\n",
              "      <td>82</td>\n",
              "      <td>12</td>\n",
              "      <td>12</td>\n",
              "      <td>0</td>\n",
              "      <td>0</td>\n",
              "      <td>5.879063e-10</td>\n",
              "      <td>2.789075e-10</td>\n",
              "      <td>3.531602e-10</td>\n",
              "      <td>0</td>\n",
              "    </tr>\n",
              "    <tr>\n",
              "      <th>291136</th>\n",
              "      <td>63</td>\n",
              "      <td>9</td>\n",
              "      <td>9</td>\n",
              "      <td>0</td>\n",
              "      <td>0</td>\n",
              "      <td>1.246216e-10</td>\n",
              "      <td>1.479688e-10</td>\n",
              "      <td>1.534266e-10</td>\n",
              "      <td>0</td>\n",
              "    </tr>\n",
              "    <tr>\n",
              "      <th>287857</th>\n",
              "      <td>14</td>\n",
              "      <td>2</td>\n",
              "      <td>2</td>\n",
              "      <td>0</td>\n",
              "      <td>0</td>\n",
              "      <td>2.193191e-11</td>\n",
              "      <td>2.114321e-11</td>\n",
              "      <td>1.251982e-11</td>\n",
              "      <td>0</td>\n",
              "    </tr>\n",
              "  </tbody>\n",
              "</table>\n",
              "<p>119732 rows × 9 columns</p>\n",
              "</div>"
            ],
            "text/plain": [
              "        n_peaks  n_spikes  n_spikes1  ...   betha_power   gamma_power  n_spikes4\n",
              "0            16         3          3  ...  1.236702e-11  4.065387e-12          0\n",
              "1            14         4          4  ...  1.099658e-11  4.843339e-12          0\n",
              "2            26         7          7  ...  1.976433e-11  4.576166e-12          0\n",
              "3            14         3          3  ...  1.338699e-11  4.710653e-12          0\n",
              "4            20         4          4  ...  1.256106e-11  4.744372e-12          0\n",
              "...         ...       ...        ...  ...           ...           ...        ...\n",
              "329120       46         6          6  ...  2.905847e-11  2.192764e-11          0\n",
              "255592       11         2          2  ...  3.074867e-12  1.053605e-12          0\n",
              "337800       82        12         12  ...  2.789075e-10  3.531602e-10          0\n",
              "291136       63         9          9  ...  1.479688e-10  1.534266e-10          0\n",
              "287857       14         2          2  ...  2.114321e-11  1.251982e-11          0\n",
              "\n",
              "[119732 rows x 9 columns]"
            ]
          },
          "metadata": {
            "tags": []
          }
        },
        {
          "output_type": "execute_result",
          "data": {
            "text/plain": [
              "0         pre_ictal\n",
              "1         pre_ictal\n",
              "2         pre_ictal\n",
              "3         pre_ictal\n",
              "4         pre_ictal\n",
              "            ...    \n",
              "329120       normal\n",
              "255592       normal\n",
              "337800       normal\n",
              "291136       normal\n",
              "287857       normal\n",
              "Name: label, Length: 119732, dtype: object"
            ]
          },
          "metadata": {
            "tags": []
          },
          "execution_count": 10
        }
      ]
    },
    {
      "cell_type": "code",
      "metadata": {
        "colab": {
          "base_uri": "https://localhost:8080/"
        },
        "id": "jCyKzAXnFAei",
        "outputId": "491bcb3c-df5b-4c26-fcd8-4c9541f6e9b0"
      },
      "source": [
        "X_train, X_test, Y_train, Y_test = train_test_split(dataset, y,  test_size=0.2, random_state=42, stratify = y)\n",
        "Y_train"
      ],
      "execution_count": null,
      "outputs": [
        {
          "output_type": "execute_result",
          "data": {
            "text/plain": [
              "136060       normal\n",
              "3814      pre_ictal\n",
              "8131      pre_ictal\n",
              "217476       normal\n",
              "228798       normal\n",
              "            ...    \n",
              "6359      pre_ictal\n",
              "91098        normal\n",
              "34941     pre_ictal\n",
              "19063     pre_ictal\n",
              "13549     pre_ictal\n",
              "Name: label, Length: 95785, dtype: object"
            ]
          },
          "metadata": {
            "tags": []
          },
          "execution_count": 11
        }
      ]
    },
    {
      "cell_type": "code",
      "metadata": {
        "colab": {
          "base_uri": "https://localhost:8080/"
        },
        "id": "ePEgD-sYFE2P",
        "outputId": "ef4543cf-dd26-476e-c5dc-7a66c8ebf422"
      },
      "source": [
        "Y_test.value_counts()/len(Y_test)"
      ],
      "execution_count": null,
      "outputs": [
        {
          "output_type": "execute_result",
          "data": {
            "text/plain": [
              "normal       0.528333\n",
              "pre_ictal    0.471667\n",
              "Name: label, dtype: float64"
            ]
          },
          "metadata": {
            "tags": []
          },
          "execution_count": 54
        }
      ]
    },
    {
      "cell_type": "code",
      "metadata": {
        "colab": {
          "base_uri": "https://localhost:8080/"
        },
        "id": "rS3yiWyzFFZh",
        "outputId": "bf036cb7-7a74-4371-82d8-1ab385b3d332"
      },
      "source": [
        "Y_train.value_counts()/len(Y_train)"
      ],
      "execution_count": null,
      "outputs": [
        {
          "output_type": "execute_result",
          "data": {
            "text/plain": [
              "normal       0.528319\n",
              "pre_ictal    0.471681\n",
              "Name: label, dtype: float64"
            ]
          },
          "metadata": {
            "tags": []
          },
          "execution_count": 55
        }
      ]
    },
    {
      "cell_type": "code",
      "metadata": {
        "id": "sqvVUrawf9MA"
      },
      "source": [
        "min_max_scaler = preprocessing.MinMaxScaler()\n",
        "x_scaled = min_max_scaler.fit_transform(X_train)\n",
        "X_train = pd.DataFrame(x_scaled, columns = ['n_peaks', 'n_spikes', 'n_spikes1', 'n_spikes2', 'n_spikes3','alpha_power', 'betha_power', 'gamma_power', 'n_spikes4'])"
      ],
      "execution_count": null,
      "outputs": []
    },
    {
      "cell_type": "code",
      "metadata": {
        "id": "2Fs2bCB_gDZA"
      },
      "source": [
        "x_scaled_test = min_max_scaler.transform(X_test)\n",
        "X_test = pd.DataFrame(x_scaled_test, columns = ['n_peaks', 'n_spikes', 'n_spikes1', 'n_spikes2', 'n_spikes3','alpha_power', 'betha_power', 'gamma_power', 'n_spikes4'])"
      ],
      "execution_count": null,
      "outputs": []
    },
    {
      "cell_type": "markdown",
      "metadata": {
        "id": "Z2DpCo4JFLEt"
      },
      "source": [
        "#Classificaton Tree"
      ]
    },
    {
      "cell_type": "code",
      "metadata": {
        "colab": {
          "base_uri": "https://localhost:8080/"
        },
        "id": "sh_q1MCfEmuQ",
        "outputId": "b8fda053-8f2e-4cd2-9d4b-4a94422d9a43"
      },
      "source": [
        "clf = DecisionTreeClassifier(random_state=0)\n",
        "scores = cross_val_score(clf, X_train, Y_train, cv=3)\n",
        "clf.fit(X_train, Y_train)\n",
        "scores"
      ],
      "execution_count": null,
      "outputs": [
        {
          "output_type": "execute_result",
          "data": {
            "text/plain": [
              "array([0.56218485, 0.56398772, 0.55634553])"
            ]
          },
          "metadata": {
            "tags": []
          },
          "execution_count": 58
        }
      ]
    },
    {
      "cell_type": "code",
      "metadata": {
        "colab": {
          "base_uri": "https://localhost:8080/"
        },
        "id": "9nzq_4zNGdUu",
        "outputId": "703ca953-3f4b-44bd-f0b4-15d1c14cca9b"
      },
      "source": [
        "prediction_train_DT  = clf.predict(X_train)\n",
        "prediction_test_DT  = clf.predict(X_test)\n",
        "print(classification_report(Y_train, prediction_train_DT))\n",
        "print(classification_report(Y_test, prediction_test_DT))"
      ],
      "execution_count": null,
      "outputs": [
        {
          "output_type": "stream",
          "text": [
            "              precision    recall  f1-score   support\n",
            "\n",
            "      normal       1.00      1.00      1.00     50605\n",
            "   pre_ictal       1.00      1.00      1.00     45180\n",
            "\n",
            "    accuracy                           1.00     95785\n",
            "   macro avg       1.00      1.00      1.00     95785\n",
            "weighted avg       1.00      1.00      1.00     95785\n",
            "\n",
            "              precision    recall  f1-score   support\n",
            "\n",
            "      normal       0.59      0.59      0.59     12652\n",
            "   pre_ictal       0.54      0.54      0.54     11295\n",
            "\n",
            "    accuracy                           0.57     23947\n",
            "   macro avg       0.57      0.57      0.57     23947\n",
            "weighted avg       0.57      0.57      0.57     23947\n",
            "\n"
          ],
          "name": "stdout"
        }
      ]
    },
    {
      "cell_type": "code",
      "metadata": {
        "colab": {
          "base_uri": "https://localhost:8080/"
        },
        "id": "X2DrrRsiJ5q6",
        "outputId": "43802263-c673-4d78-d2f7-775d75e864c3"
      },
      "source": [
        "\n",
        "#dic = {'criterion': ['gini','entropy'],\n",
        " #      'splitter':['best', 'random'],\n",
        "  #     'max_depth': [int(m) for m in np.linspace(1,100,5)],\n",
        "   #    #'min_samples_split': [int(m) for m in np.linspace(10,100,10)],\n",
        "   #    'max_features':['auto', 'sqrt', 'log2','None']\n",
        "     #  }\n",
        "dic = {'criterion': ['entropy'],\n",
        "       'splitter':['best'],\n",
        "       'max_depth': [25],\n",
        "       #'min_samples_split': [int(m) for m in np.linspace(10,100,10)],\n",
        "       'max_features':['sqrt']\n",
        "       }\n",
        "\n",
        "tree = DecisionTreeClassifier()\n",
        "clf = GridSearchCV(tree, dic, verbose =10,n_jobs=-1, scoring = 'f1')\n",
        "Y_train_DT = Y_train.replace({'pre_ictal':1, 'normal':0})\n",
        "clf.fit(X_train, Y_train_DT)"
      ],
      "execution_count": null,
      "outputs": [
        {
          "output_type": "stream",
          "text": [
            "Fitting 5 folds for each of 1 candidates, totalling 5 fits\n"
          ],
          "name": "stdout"
        },
        {
          "output_type": "stream",
          "text": [
            "[Parallel(n_jobs=-1)]: Using backend LokyBackend with 2 concurrent workers.\n",
            "[Parallel(n_jobs=-1)]: Done   1 tasks      | elapsed:    1.9s\n",
            "[Parallel(n_jobs=-1)]: Done   3 out of   5 | elapsed:    2.6s remaining:    1.7s\n",
            "[Parallel(n_jobs=-1)]: Done   5 out of   5 | elapsed:    3.1s remaining:    0.0s\n",
            "[Parallel(n_jobs=-1)]: Done   5 out of   5 | elapsed:    3.1s finished\n"
          ],
          "name": "stderr"
        },
        {
          "output_type": "execute_result",
          "data": {
            "text/plain": [
              "GridSearchCV(cv=None, error_score=nan,\n",
              "             estimator=DecisionTreeClassifier(ccp_alpha=0.0, class_weight=None,\n",
              "                                              criterion='gini', max_depth=None,\n",
              "                                              max_features=None,\n",
              "                                              max_leaf_nodes=None,\n",
              "                                              min_impurity_decrease=0.0,\n",
              "                                              min_impurity_split=None,\n",
              "                                              min_samples_leaf=1,\n",
              "                                              min_samples_split=2,\n",
              "                                              min_weight_fraction_leaf=0.0,\n",
              "                                              presort='deprecated',\n",
              "                                              random_state=None,\n",
              "                                              splitter='best'),\n",
              "             iid='deprecated', n_jobs=-1,\n",
              "             param_grid={'criterion': ['entropy'], 'max_depth': [25],\n",
              "                         'max_features': ['sqrt'], 'splitter': ['best']},\n",
              "             pre_dispatch='2*n_jobs', refit=True, return_train_score=False,\n",
              "             scoring='f1', verbose=10)"
            ]
          },
          "metadata": {
            "tags": []
          },
          "execution_count": 15
        }
      ]
    },
    {
      "cell_type": "code",
      "metadata": {
        "colab": {
          "base_uri": "https://localhost:8080/"
        },
        "id": "F99VuyHsOuJK",
        "outputId": "189c910a-c42d-442f-b192-c3aa1a2ef7ad"
      },
      "source": [
        "clf.best_estimator_"
      ],
      "execution_count": null,
      "outputs": [
        {
          "output_type": "execute_result",
          "data": {
            "text/plain": [
              "DecisionTreeClassifier(ccp_alpha=0.0, class_weight=None, criterion='entropy',\n",
              "                       max_depth=25, max_features='sqrt', max_leaf_nodes=None,\n",
              "                       min_impurity_decrease=0.0, min_impurity_split=None,\n",
              "                       min_samples_leaf=1, min_samples_split=2,\n",
              "                       min_weight_fraction_leaf=0.0, presort='deprecated',\n",
              "                       random_state=None, splitter='best')"
            ]
          },
          "metadata": {
            "tags": []
          },
          "execution_count": 16
        }
      ]
    },
    {
      "cell_type": "code",
      "metadata": {
        "id": "1wo9zTgfZ4vz"
      },
      "source": [
        "a = DecisionTreeClassifier(max_depth= 25,max_features='sqrt',splitter='best', max_features='sqrt' )\n",
        "a.train(X_train,X_test)"
      ],
      "execution_count": null,
      "outputs": []
    },
    {
      "cell_type": "code",
      "metadata": {
        "colab": {
          "base_uri": "https://localhost:8080/"
        },
        "id": "0dgHftZdNm1h",
        "outputId": "ed13c11c-eb7a-4ee3-913b-ecd6f4ca8d95"
      },
      "source": [
        "prediction_train_DT  = clf.best_estimator_.predict(X_train)\n",
        "prediction_test_DT  = clf.best_estimator_.predict(X_test)\n",
        "print(classification_report(Y_train_DT, prediction_train_DT))\n",
        "\n",
        "Y_test_DT = Y_test.replace({'pre_ictal':1, 'normal':0})\n",
        "\n",
        "print(classification_report(Y_test_DT, prediction_test_DT))"
      ],
      "execution_count": null,
      "outputs": [
        {
          "output_type": "stream",
          "text": [
            "              precision    recall  f1-score   support\n",
            "\n",
            "           0       0.85      0.79      0.82     50605\n",
            "           1       0.78      0.84      0.81     45180\n",
            "\n",
            "    accuracy                           0.81     95785\n",
            "   macro avg       0.81      0.81      0.81     95785\n",
            "weighted avg       0.82      0.81      0.81     95785\n",
            "\n",
            "              precision    recall  f1-score   support\n",
            "\n",
            "           0       0.62      0.57      0.60     12652\n",
            "           1       0.56      0.61      0.58     11295\n",
            "\n",
            "    accuracy                           0.59     23947\n",
            "   macro avg       0.59      0.59      0.59     23947\n",
            "weighted avg       0.59      0.59      0.59     23947\n",
            "\n"
          ],
          "name": "stdout"
        }
      ]
    },
    {
      "cell_type": "code",
      "metadata": {
        "colab": {
          "base_uri": "https://localhost:8080/",
          "height": 609
        },
        "id": "xcAAkpcYZrph",
        "outputId": "e8a1d536-db23-468b-8841-81c7afa7199a"
      },
      "source": [
        "\n",
        "X_train.columns\n",
        "\n",
        "import matplotlib.pyplot as plt\n",
        "plt.figure(figsize=(10,10))\n",
        "plt.barh(X_train.columns,clf.best_estimator_.feature_importances_ )"
      ],
      "execution_count": null,
      "outputs": [
        {
          "output_type": "execute_result",
          "data": {
            "text/plain": [
              "<BarContainer object of 9 artists>"
            ]
          },
          "metadata": {
            "tags": []
          },
          "execution_count": 25
        },
        {
          "output_type": "display_data",
          "data": {
            "image/png": "[encoded data removed]",
            "text/plain": [
              "<Figure size 720x720 with 1 Axes>"
            ]
          },
          "metadata": {
            "tags": [],
            "needs_background": "light"
          }
        }
      ]
    },
    {
      "cell_type": "markdown",
      "metadata": {
        "id": "M4pIgkaKGNEC"
      },
      "source": [
        "#Bagging Clasifier"
      ]
    },
    {
      "cell_type": "code",
      "metadata": {
        "colab": {
          "base_uri": "https://localhost:8080/"
        },
        "id": "NYOe6iX0GMYP",
        "outputId": "8b9c31ea-fa83-478c-de94-934203b342ab"
      },
      "source": [
        "clf_BC = BaggingClassifier()\n",
        "scores = cross_val_score(clf_BC, X_train, Y_train, cv=3)\n",
        "clf_BC.fit(X_train, Y_train)\n",
        "scores"
      ],
      "execution_count": null,
      "outputs": [
        {
          "output_type": "execute_result",
          "data": {
            "text/plain": [
              "array([0.5813837 , 0.59223879, 0.58848033])"
            ]
          },
          "metadata": {
            "tags": []
          },
          "execution_count": 64
        }
      ]
    },
    {
      "cell_type": "code",
      "metadata": {
        "colab": {
          "base_uri": "https://localhost:8080/"
        },
        "id": "NiWOZw-0GMSZ",
        "outputId": "30e3b33c-91ab-4fab-eaa7-3b88f208064b"
      },
      "source": [
        "prediction_train_BC  = clf_BC.predict(X_train)\n",
        "prediction_test_BC  = clf_BC.predict(X_test)\n",
        "print(classification_report(Y_train, prediction_train_BC))\n",
        "print(classification_report(Y_test, prediction_test_BC))"
      ],
      "execution_count": null,
      "outputs": [
        {
          "output_type": "stream",
          "text": [
            "              precision    recall  f1-score   support\n",
            "\n",
            "      normal       0.97      0.99      0.98     50605\n",
            "   pre_ictal       0.99      0.97      0.98     45180\n",
            "\n",
            "    accuracy                           0.98     95785\n",
            "   macro avg       0.98      0.98      0.98     95785\n",
            "weighted avg       0.98      0.98      0.98     95785\n",
            "\n",
            "              precision    recall  f1-score   support\n",
            "\n",
            "      normal       0.60      0.69      0.64     12652\n",
            "   pre_ictal       0.58      0.48      0.53     11295\n",
            "\n",
            "    accuracy                           0.59     23947\n",
            "   macro avg       0.59      0.59      0.58     23947\n",
            "weighted avg       0.59      0.59      0.59     23947\n",
            "\n"
          ],
          "name": "stdout"
        }
      ]
    },
    {
      "cell_type": "markdown",
      "metadata": {
        "id": "aXv8aQxdSOcL"
      },
      "source": [
        "# Ada boost"
      ]
    },
    {
      "cell_type": "code",
      "metadata": {
        "colab": {
          "base_uri": "https://localhost:8080/"
        },
        "id": "OWU3Tj97RbcX",
        "outputId": "9521c6ca-91fa-4092-d7ed-805ee8551509"
      },
      "source": [
        "clf_ADB = AdaBoostClassifier()\n",
        "scores = cross_val_score(clf_ADB, X_train, Y_train, cv=4, scoring = 'f1_weighted')\n",
        "clf_ADB.fit(X_train, Y_train)\n",
        "np.mean(scores)"
      ],
      "execution_count": null,
      "outputs": [
        {
          "output_type": "execute_result",
          "data": {
            "text/plain": [
              "0.572713520686206"
            ]
          },
          "metadata": {
            "tags": []
          },
          "execution_count": 66
        }
      ]
    },
    {
      "cell_type": "code",
      "metadata": {
        "colab": {
          "base_uri": "https://localhost:8080/"
        },
        "id": "LA6o2FVwRdsl",
        "outputId": "165ce769-3177-4fd9-ec94-1e921f681769"
      },
      "source": [
        "prediction_train_ADB  = clf_BC.predict(X_train)\n",
        "prediction_test_ADB  = clf_BC.predict(X_test)\n",
        "print(classification_report(Y_train, prediction_train_ADB))\n",
        "print(classification_report(Y_test, prediction_test_ADB))"
      ],
      "execution_count": null,
      "outputs": [
        {
          "output_type": "stream",
          "text": [
            "              precision    recall  f1-score   support\n",
            "\n",
            "      normal       0.97      0.99      0.98     50605\n",
            "   pre_ictal       0.99      0.97      0.98     45180\n",
            "\n",
            "    accuracy                           0.98     95785\n",
            "   macro avg       0.98      0.98      0.98     95785\n",
            "weighted avg       0.98      0.98      0.98     95785\n",
            "\n",
            "              precision    recall  f1-score   support\n",
            "\n",
            "      normal       0.60      0.69      0.64     12652\n",
            "   pre_ictal       0.58      0.48      0.53     11295\n",
            "\n",
            "    accuracy                           0.59     23947\n",
            "   macro avg       0.59      0.59      0.58     23947\n",
            "weighted avg       0.59      0.59      0.59     23947\n",
            "\n"
          ],
          "name": "stdout"
        }
      ]
    },
    {
      "cell_type": "markdown",
      "metadata": {
        "id": "2hhmqQhcSNQ5"
      },
      "source": [
        "# Random Forest"
      ]
    },
    {
      "cell_type": "code",
      "metadata": {
        "colab": {
          "base_uri": "https://localhost:8080/"
        },
        "id": "EcEu8xUpSLmx",
        "outputId": "067295e6-9331-44e1-c9b2-7d89a4e16c7d"
      },
      "source": [
        "clf_RF = RandomForestClassifier()\n",
        "scores = cross_val_score(clf_RF, X_train, Y_train, cv=4)\n",
        "clf_RF.fit(X_train, Y_train)\n",
        "np.mean(scores)"
      ],
      "execution_count": null,
      "outputs": [
        {
          "output_type": "execute_result",
          "data": {
            "text/plain": [
              "0.6064415599657071"
            ]
          },
          "metadata": {
            "tags": []
          },
          "execution_count": 68
        }
      ]
    },
    {
      "cell_type": "code",
      "metadata": {
        "colab": {
          "base_uri": "https://localhost:8080/"
        },
        "id": "nul1_Pc6Sbj1",
        "outputId": "24713c29-ac22-46df-a3ee-40b330c05343"
      },
      "source": [
        "prediction_train_RF  = clf_RF.predict(X_train)\n",
        "prediction_test_RF  = clf_RF.predict(X_test)\n",
        "print(classification_report(Y_train, prediction_train_RF))\n",
        "print(classification_report(Y_test, prediction_test_RF))"
      ],
      "execution_count": null,
      "outputs": [
        {
          "output_type": "stream",
          "text": [
            "              precision    recall  f1-score   support\n",
            "\n",
            "      normal       1.00      1.00      1.00     50605\n",
            "   pre_ictal       1.00      1.00      1.00     45180\n",
            "\n",
            "    accuracy                           1.00     95785\n",
            "   macro avg       1.00      1.00      1.00     95785\n",
            "weighted avg       1.00      1.00      1.00     95785\n",
            "\n",
            "              precision    recall  f1-score   support\n",
            "\n",
            "      normal       0.63      0.64      0.63     12652\n",
            "   pre_ictal       0.59      0.57      0.58     11295\n",
            "\n",
            "    accuracy                           0.61     23947\n",
            "   macro avg       0.61      0.61      0.61     23947\n",
            "weighted avg       0.61      0.61      0.61     23947\n",
            "\n"
          ],
          "name": "stdout"
        }
      ]
    },
    {
      "cell_type": "markdown",
      "metadata": {
        "id": "JMv8nsNAUBSY"
      },
      "source": [
        "## Tunning RF\n"
      ]
    },
    {
      "cell_type": "code",
      "metadata": {
        "colab": {
          "base_uri": "https://localhost:8080/"
        },
        "id": "aFFO5tIpS8Pw",
        "outputId": "262043c4-dfef-4fbf-a058-054da04307bd"
      },
      "source": [
        "#dic_RF = { 'n_estimators': [30,40,50],\n",
        "     #  'criterion': ['gini','entropy'],\n",
        "    #   'max_depth': [20,30,25],\n",
        "       #'min_samples_split': [int(m) for m in np.linspace(10,100,)],\n",
        "       #\n",
        "   #    'max_features':['auto', 'sqrt', 'log2']\n",
        "  #     #'class_weight':['balanced', 'balanced_subsample', None]\n",
        " #      }\n",
        "\n",
        "\n",
        "dic_RF = { 'n_estimators': [40],\n",
        "       'criterion': ['entropy'],\n",
        "       'max_depth': [20],\n",
        "       #'min_samples_split': [int(m) for m in np.linspace(10,100,)],\n",
        "       #\n",
        "       'max_features':['sqrt']\n",
        "       #'class_weight':['balanced', 'balanced_subsample', None]\n",
        "       }\n",
        "forest = RandomForestClassifier()\n",
        "clf_RF = GridSearchCV(forest, dic_RF, verbose =10,n_jobs=-1, cv = 3)\n",
        "clf_RF.fit(X_train, Y_train)"
      ],
      "execution_count": null,
      "outputs": [
        {
          "output_type": "stream",
          "text": [
            "Fitting 3 folds for each of 1 candidates, totalling 3 fits\n"
          ],
          "name": "stdout"
        },
        {
          "output_type": "stream",
          "text": [
            "[Parallel(n_jobs=-1)]: Using backend LokyBackend with 2 concurrent workers.\n",
            "[Parallel(n_jobs=-1)]: Done   3 out of   3 | elapsed:   24.2s remaining:    0.0s\n",
            "[Parallel(n_jobs=-1)]: Done   3 out of   3 | elapsed:   24.2s finished\n"
          ],
          "name": "stderr"
        },
        {
          "output_type": "execute_result",
          "data": {
            "text/plain": [
              "GridSearchCV(cv=3, error_score=nan,\n",
              "             estimator=RandomForestClassifier(bootstrap=True, ccp_alpha=0.0,\n",
              "                                              class_weight=None,\n",
              "                                              criterion='gini', max_depth=None,\n",
              "                                              max_features='auto',\n",
              "                                              max_leaf_nodes=None,\n",
              "                                              max_samples=None,\n",
              "                                              min_impurity_decrease=0.0,\n",
              "                                              min_impurity_split=None,\n",
              "                                              min_samples_leaf=1,\n",
              "                                              min_samples_split=2,\n",
              "                                              min_weight_fraction_leaf=0.0,\n",
              "                                              n_estimators=100, n_jobs=None,\n",
              "                                              oob_score=False,\n",
              "                                              random_state=None, verbose=0,\n",
              "                                              warm_start=False),\n",
              "             iid='deprecated', n_jobs=-1,\n",
              "             param_grid={'criterion': ['entropy'], 'max_depth': [20],\n",
              "                         'max_features': ['sqrt'], 'n_estimators': [40]},\n",
              "             pre_dispatch='2*n_jobs', refit=True, return_train_score=False,\n",
              "             scoring=None, verbose=10)"
            ]
          },
          "metadata": {
            "tags": []
          },
          "execution_count": 28
        }
      ]
    },
    {
      "cell_type": "code",
      "metadata": {
        "colab": {
          "base_uri": "https://localhost:8080/"
        },
        "id": "vfuHB_DjUEAR",
        "outputId": "0150d20c-9c8b-45f7-8e1a-40160feeff7c"
      },
      "source": [
        "clf_RF.best_estimator_"
      ],
      "execution_count": null,
      "outputs": [
        {
          "output_type": "execute_result",
          "data": {
            "text/plain": [
              "RandomForestClassifier(bootstrap=True, ccp_alpha=0.0, class_weight=None,\n",
              "                       criterion='entropy', max_depth=20, max_features='sqrt',\n",
              "                       max_leaf_nodes=None, max_samples=None,\n",
              "                       min_impurity_decrease=0.0, min_impurity_split=None,\n",
              "                       min_samples_leaf=1, min_samples_split=2,\n",
              "                       min_weight_fraction_leaf=0.0, n_estimators=40,\n",
              "                       n_jobs=None, oob_score=False, random_state=None,\n",
              "                       verbose=0, warm_start=False)"
            ]
          },
          "metadata": {
            "tags": []
          },
          "execution_count": 29
        }
      ]
    },
    {
      "cell_type": "code",
      "metadata": {
        "colab": {
          "base_uri": "https://localhost:8080/"
        },
        "id": "uEKIyi47fXtG",
        "outputId": "16d1441f-7ca2-45e5-d3d2-a9afd1b852c9"
      },
      "source": [
        "clf_RF.best_estimator_.feature_importances_"
      ],
      "execution_count": null,
      "outputs": [
        {
          "output_type": "execute_result",
          "data": {
            "text/plain": [
              "array([0.14857681, 0.04167048, 0.04299547, 0.00100661, 0.00195194,\n",
              "       0.22067235, 0.25562962, 0.28370476, 0.00379196])"
            ]
          },
          "metadata": {
            "tags": []
          },
          "execution_count": 35
        }
      ]
    },
    {
      "cell_type": "code",
      "metadata": {
        "id": "YI-68GxKe-WJ"
      },
      "source": [
        ""
      ],
      "execution_count": null,
      "outputs": []
    },
    {
      "cell_type": "code",
      "metadata": {
        "colab": {
          "base_uri": "https://localhost:8080/",
          "height": 530
        },
        "id": "cHCg2TZ4buOs",
        "outputId": "c362f968-0eba-43aa-84e4-20868cb2fcf0"
      },
      "source": [
        "\n",
        "\n",
        "X_train.columns\n",
        "\n",
        "import matplotlib.pyplot as plt\n",
        "plt.figure(figsize=(13,8))\n",
        "plt.barh(X_train.columns,clf_RF.best_estimator_.feature_importances_, color = 'blue', alpha = 0.5 )\n",
        "\n",
        "rounded = [round(x,5) for x in clf_RF.best_estimator_.feature_importances_]\n",
        "for index, value in enumerate(rounded):\n",
        "    plt.text(value, index, str(value))\n",
        "\n",
        "plt.xlabel('Importancia')\n",
        "plt.ylabel('variabe')\n",
        "plt.title('Importancia de los features')"
      ],
      "execution_count": null,
      "outputs": [
        {
          "output_type": "execute_result",
          "data": {
            "text/plain": [
              "Text(0.5, 1.0, 'Importancia de los features')"
            ]
          },
          "metadata": {
            "tags": []
          },
          "execution_count": 49
        },
        {
          "output_type": "display_data",
          "data": {
            "image/png": "[encoded data removed]",
            "text/plain": [
              "<Figure size 936x576 with 1 Axes>"
            ]
          },
          "metadata": {
            "tags": [],
            "needs_background": "light"
          }
        }
      ]
    },
    {
      "cell_type": "code",
      "metadata": {
        "colab": {
          "base_uri": "https://localhost:8080/"
        },
        "id": "7SxiH_bldcR7",
        "outputId": "f0be846f-212c-4394-e34d-17d980f9cb11"
      },
      "source": [
        "prediction_train_RF  = clf_RF.best_estimator_.predict(X_train)\n",
        "prediction_test_RF  = clf_RF.best_estimator_.predict(X_test)\n",
        "print(classification_report(Y_train, prediction_train_RF))\n",
        "print(classification_report(Y_test, prediction_test_RF))"
      ],
      "execution_count": null,
      "outputs": [
        {
          "output_type": "stream",
          "text": [
            "              precision    recall  f1-score   support\n",
            "\n",
            "      normal       0.90      0.76      0.82     50605\n",
            "   pre_ictal       0.77      0.90      0.83     45180\n",
            "\n",
            "    accuracy                           0.83     95785\n",
            "   macro avg       0.83      0.83      0.83     95785\n",
            "weighted avg       0.84      0.83      0.83     95785\n",
            "\n",
            "              precision    recall  f1-score   support\n",
            "\n",
            "      normal       0.66      0.59      0.62     12652\n",
            "   pre_ictal       0.59      0.66      0.62     11295\n",
            "\n",
            "    accuracy                           0.62     23947\n",
            "   macro avg       0.62      0.62      0.62     23947\n",
            "weighted avg       0.62      0.62      0.62     23947\n",
            "\n"
          ],
          "name": "stdout"
        }
      ]
    },
    {
      "cell_type": "code",
      "metadata": {
        "colab": {
          "base_uri": "https://localhost:8080/"
        },
        "id": "D8YkKU5MrtTE",
        "outputId": "4d8f537b-1cfb-44a3-bf2a-7e78fd9bd240"
      },
      "source": [
        "from sklearn.metrics import roc_auc_score\n",
        "Y_test_DT = Y_test.replace({'pre_ictal':1, 'normal':0})\n",
        "\n",
        "predictions_test = pd.Series(prediction_test_RF).replace({'pre_ictal':1, 'normal':0})\n",
        "print(roc_auc_score(Y_test_DT,predictions_test ))"
      ],
      "execution_count": null,
      "outputs": [
        {
          "output_type": "stream",
          "text": [
            "0.622856965015898\n"
          ],
          "name": "stdout"
        }
      ]
    }
  ]
}